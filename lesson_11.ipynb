{
 "cells": [
  {
   "cell_type": "markdown",
   "metadata": {},
   "source": [
    "# Phyton test\n"
   ]
  },
  {
   "cell_type": "code",
   "execution_count": 1,
   "metadata": {},
   "outputs": [
    {
     "data": {
      "text/plain": [
       "True"
      ]
     },
     "execution_count": 1,
     "metadata": {},
     "output_type": "execute_result"
    }
   ],
   "source": [
    "[] or bool(' ')"
   ]
  },
  {
   "cell_type": "markdown",
   "metadata": {},
   "source": [
    "# Homework 6"
   ]
  },
  {
   "cell_type": "markdown",
   "metadata": {},
   "source": [
    "1. Write a function that accepts a list and an integer k. The function returns the maximum sum of k neighboring members. Examples of inputs/outputs can be found in lesson 8 materials. The last slide"
   ]
  },
  {
   "cell_type": "code",
   "execution_count": 2,
   "metadata": {},
   "outputs": [],
   "source": [
    "def k_sum(list_1, k):\n",
    "    sums = []\n",
    "    for idx in range( len(list_1) - k + 1 ):\n",
    "        # print (idx)\n",
    "        sums.append( sum( [ list_1[neighbor_idx] for neighbor_idx in range(idx, idx + k) ] ) )\n",
    "        # option 2\n",
    "        # tmp_sum = 0\n",
    "        # for neighbor_idx in range(idx, idx + k):\n",
    "        #     tmp_sum += list_1[neighbor_idx]\n",
    "        # sums.append(sums.append)\n",
    "    print (f'sums are: {sums}')\n",
    "    return max(sums)"
   ]
  },
  {
   "cell_type": "code",
   "execution_count": 3,
   "metadata": {},
   "outputs": [
    {
     "name": "stdout",
     "output_type": "stream",
     "text": [
      "sums are: [2, 3, 4, 5, 10, 16, 1, 1]\n",
      "16\n",
      "sums are: [5, 7, 9, 15, 26, 17, 2]\n",
      "26\n",
      "sums are: [9, 12, 19, 31, 27, 18]\n",
      "31\n",
      "sums are: [14, 22, 35, 32, 28]\n",
      "35\n",
      "sums are: [24, 38, 36, 33]\n",
      "38\n",
      "sums are: [24, 38, 36, 33, 1028]\n",
      "1028\n"
     ]
    }
   ],
   "source": [
    "print (k_sum( [2,3,4,5, 10,16,1,1], 1 ) )\n",
    "print (k_sum( [2,3,4,5, 10,16,1,1], 2 ) )\n",
    "print (k_sum( [2,3,4,5, 10,16,1,1], 3 ) )\n",
    "print (k_sum( [2,3,4,5, 10,16,1,1], 4 ) )\n",
    "print (k_sum( [2,3,4,5, 10,16,1,1], 5 ) )\n",
    "print (k_sum( [2,3,4,5, 10,16,1,1,1000], 5 ) )"
   ]
  },
  {
   "cell_type": "markdown",
   "metadata": {},
   "source": [
    "2.  Write a function that accepts a list and an integer k. The function returns a list of number pairs whose difference is equal to the entered number k. If no such pairs are present, return False.Examples of inputs/outputs can be found in lesson 8 materials."
   ]
  },
  {
   "cell_type": "code",
   "execution_count": 4,
   "metadata": {},
   "outputs": [],
   "source": [
    "def k_diff(list_1, k):\n",
    "    diff_list = []\n",
    "    for number_1 in list_1:\n",
    "        for number_2 in list_1:\n",
    "            if (number_1 - number_2) == k:\n",
    "                diff_list.append( ( number_1, number_2 ) )\n",
    "    \n",
    "    if diff_list:\n",
    "        return diff_list\n",
    "    else:\n",
    "        return False"
   ]
  },
  {
   "cell_type": "code",
   "execution_count": 5,
   "metadata": {},
   "outputs": [
    {
     "name": "stdout",
     "output_type": "stream",
     "text": [
      "[(2, 1), (2, 1), (3, 2), (4, 3), (5, 4)]\n",
      "[(3, 1), (3, 1), (4, 2), (5, 3)]\n",
      "[(4, 1), (4, 1), (5, 2)]\n",
      "[(5, 1), (5, 1)]\n",
      "[(10, 5)]\n",
      "[(10, 5)]\n"
     ]
    }
   ],
   "source": [
    "print (k_diff( [2,3,4,5, 10,16,1,1], 1 ) )\n",
    "print (k_diff( [2,3,4,5, 10,16,1,1], 2 ) )\n",
    "print (k_diff( [2,3,4,5, 10,16,1,1], 3 ) )\n",
    "print (k_diff( [2,3,4,5, 10,16,1,1], 4 ) )\n",
    "print (k_diff( [2,3,4,5, 10,16,1,1], 5 ) )\n",
    "print (k_diff( [2,3,4,5, 10,16,1,1,1000], 5 ) )"
   ]
  },
  {
   "cell_type": "markdown",
   "metadata": {},
   "source": [
    "# Homework 7"
   ]
  },
  {
   "cell_type": "code",
   "execution_count": 6,
   "metadata": {},
   "outputs": [],
   "source": [
    "# object description, template\n",
    "class AbstractPipe:\n",
    "    def __init__(self): \n",
    "        pass\n",
    "\n",
    "    # methods\n",
    "    # def __repr__(self) -> str:\n",
    "    #     return f'A {self.crossection_type} pipe with a diameter of {self.diameter}'\n",
    "\n",
    "    def __eq__(self, second_pipe) -> bool:\n",
    "        return self.crossection_area() == second_pipe.crossection_area()\n",
    "    \n",
    "    def __lt__(self, second_pipe) -> bool:\n",
    "        return self.crossection_area() < second_pipe.crossection_area()\n",
    "\n",
    "    def crossection_area(self):\n",
    "        raise NotImplementedError\n",
    "\n",
    "    def flow_rate(self, velocity):\n",
    "        return self.crossection_area() * velocity"
   ]
  },
  {
   "cell_type": "code",
   "execution_count": 7,
   "metadata": {},
   "outputs": [],
   "source": [
    "# object description, template\n",
    "class RectanglePipe(AbstractPipe):\n",
    "    def __init__(self, width, height): \n",
    "        # attributes\n",
    "        super().__init__()\n",
    "        self.width = width\n",
    "        self.height = height\n",
    "\n",
    "    def crossection_area(self):\n",
    "        return self.width * self.height"
   ]
  },
  {
   "cell_type": "code",
   "execution_count": 8,
   "metadata": {},
   "outputs": [
    {
     "name": "stdout",
     "output_type": "stream",
     "text": [
      "3.0\n",
      "18.0\n"
     ]
    },
    {
     "data": {
      "text/plain": [
       "False"
      ]
     },
     "execution_count": 8,
     "metadata": {},
     "output_type": "execute_result"
    }
   ],
   "source": [
    "rectangle_pipe_1 = RectanglePipe(1,2)\n",
    "rectangle_pipe_2 = RectanglePipe(4,3)\n",
    "\n",
    "print (rectangle_pipe_1.flow_rate(1.5) )\n",
    "print (rectangle_pipe_2.flow_rate(1.5) )\n",
    "\n",
    "rectangle_pipe_1 > rectangle_pipe_2"
   ]
  },
  {
   "cell_type": "code",
   "execution_count": 9,
   "metadata": {},
   "outputs": [],
   "source": [
    "# object description, template\n",
    "class RoundPipe(AbstractPipe):\n",
    "    def __init__(self, radius): \n",
    "        # attributes\n",
    "        super().__init__()\n",
    "        self.radius = radius\n",
    "\n",
    "    def crossection_area(self):\n",
    "        return 3.14 * self.radius ** 2"
   ]
  },
  {
   "cell_type": "code",
   "execution_count": 10,
   "metadata": {},
   "outputs": [
    {
     "name": "stdout",
     "output_type": "stream",
     "text": [
      "1.1775\n",
      "10.5975\n"
     ]
    }
   ],
   "source": [
    "round_pipe_1 = RoundPipe(0.5)\n",
    "round_pipe_2 = RoundPipe(1.5)\n",
    "\n",
    "print (round_pipe_1.flow_rate(1.5) )\n",
    "print (round_pipe_2.flow_rate(1.5) )"
   ]
  },
  {
   "cell_type": "code",
   "execution_count": 11,
   "metadata": {},
   "outputs": [
    {
     "name": "stdout",
     "output_type": "stream",
     "text": [
      "0.785\n"
     ]
    },
    {
     "data": {
      "text/plain": [
       "True"
      ]
     },
     "execution_count": 11,
     "metadata": {},
     "output_type": "execute_result"
    }
   ],
   "source": [
    "print (round_pipe_1.crossection_area())\n",
    "rectangle_pipe_1 > round_pipe_1"
   ]
  },
  {
   "cell_type": "code",
   "execution_count": 12,
   "metadata": {},
   "outputs": [],
   "source": [
    "class BankAccount:\n",
    "    def __init__(self, name, surname) -> None:\n",
    "        self.name = name\n",
    "        self.surname = surname\n",
    "        self.balance = 0\n",
    "\n",
    "    def add(self, amount_of_money):\n",
    "        self.balance += amount_of_money\n",
    "\n",
    "    def widraw(self, amount_of_money):\n",
    "        if self.balance - amount_of_money < 0:\n",
    "            raise ValueError('Not enough money in the account')\n",
    "        print (f'widrawing {amount_of_money} from the account of {self.name} {self.surname}')\n",
    "        self.balance -= amount_of_money\n",
    "\n",
    "    def check_balance(self):\n",
    "        return self.balance\n",
    "\n",
    "    def __repr__(self) -> str:\n",
    "        return f'Bank account of {self.name} {self.surname}'"
   ]
  },
  {
   "cell_type": "code",
   "execution_count": 13,
   "metadata": {},
   "outputs": [
    {
     "name": "stdout",
     "output_type": "stream",
     "text": [
      "Bank account of Bob Greenstone\n",
      "0\n",
      "1200\n",
      "widrawing 200 from the account of Bob Greenstone\n",
      "1000\n"
     ]
    }
   ],
   "source": [
    "Bob_account = BankAccount('Bob', 'Greenstone') \n",
    "print( Bob_account)\n",
    "print (Bob_account.check_balance() )\n",
    "Bob_account.add(1200)\n",
    "print (Bob_account.check_balance() )\n",
    "# Bob_account.widraw(1500)\n",
    "Bob_account.widraw(200)\n",
    "print (Bob_account.check_balance() )"
   ]
  },
  {
   "cell_type": "code",
   "execution_count": 14,
   "metadata": {},
   "outputs": [],
   "source": [
    "class Bank:\n",
    "    def __init__(self, bank_name) -> None:\n",
    "        self.bank_name = bank_name\n",
    "        self.accounts = []\n",
    "\n",
    "    def add_account(self, name, surname):\n",
    "        self.accounts.append( BankAccount(name, surname) )\n",
    "    \n",
    "    def add_to_account(self, name, surname, amount_of_money):\n",
    "        person_account = None\n",
    "        for account in self.accounts:\n",
    "            if name == account.name and surname == account.surname:\n",
    "                person_account = account\n",
    "                break\n",
    "        if person_account is None:\n",
    "            raise ValueError(f'account of {name} {surname} was not found in bank system')\n",
    "\n",
    "        person_account.add(amount_of_money)\n",
    "\n",
    "    def widraw_from_account(self, name, surname, amount_of_money):\n",
    "        person_account = None\n",
    "        for account in self.accounts:\n",
    "            if name == account.name and surname == account.surname:\n",
    "                person_account = account\n",
    "                break\n",
    "        if person_account is None:\n",
    "            raise ValueError(f'account of {name} {surname} was not found in bank system')\n",
    "\n",
    "        person_account.widraw(amount_of_money)\n",
    "\n",
    "    \n"
   ]
  },
  {
   "cell_type": "code",
   "execution_count": 15,
   "metadata": {},
   "outputs": [
    {
     "name": "stdout",
     "output_type": "stream",
     "text": [
      "[]\n",
      "[Bank account of Bob Greenstone, Bank account of Amy Silverstone]\n",
      "1000\n",
      "0\n",
      "widrawing 100 from the account of Bob Greenstone\n"
     ]
    }
   ],
   "source": [
    "my_bank = Bank('my_bank')\n",
    "print (my_bank.accounts )\n",
    "my_bank.add_account('Bob', 'Greenstone')\n",
    "my_bank.add_account('Amy', 'Silverstone')\n",
    "print (my_bank.accounts )\n",
    "my_bank.add_to_account('Bob', 'Greenstone', 1000)\n",
    "# my_bank.add_to_account('Amy', 'Greenstone', 1000) # wrong name\n",
    "for account in my_bank.accounts:\n",
    "    print (account.check_balance())\n",
    "\n",
    "my_bank.widraw_from_account('Bob', 'Greenstone', 100)\n",
    "# my_bank.widraw_from_account('Bob', 'Greenstone', 1450)"
   ]
  }
 ],
 "metadata": {
  "interpreter": {
   "hash": "aee8b7b246df8f9039afb4144a1f6fd8d2ca17a180786b69acc140d282b71a49"
  },
  "kernelspec": {
   "display_name": "Python 3.10.0 64-bit",
   "language": "python",
   "name": "python3"
  },
  "language_info": {
   "codemirror_mode": {
    "name": "ipython",
    "version": 3
   },
   "file_extension": ".py",
   "mimetype": "text/x-python",
   "name": "python",
   "nbconvert_exporter": "python",
   "pygments_lexer": "ipython3",
   "version": "3.10.0"
  },
  "orig_nbformat": 4
 },
 "nbformat": 4,
 "nbformat_minor": 2
}
