{
 "cells": [
  {
   "cell_type": "code",
   "execution_count": 1,
   "metadata": {},
   "outputs": [],
   "source": [
    "#None"
   ]
  },
  {
   "cell_type": "code",
   "execution_count": 5,
   "metadata": {},
   "outputs": [
    {
     "name": "stdout",
     "output_type": "stream",
     "text": [
      "user_input has no value, enter it.\n",
      "User name is : Karina\n",
      "User name is : Karina\n",
      "User name is : Karina\n",
      "User name is : Karina\n"
     ]
    }
   ],
   "source": [
    "user_input = None\n",
    "\n",
    "for i in range(5):\n",
    "    if user_input is None:\n",
    "        print ('user_input has no value, enter it.')\n",
    "        user_input = input(\"Enter your name\")\n",
    "        if not user_input:\n",
    "            print (\"You haven't enterned anything\")\n",
    "            user_input = None\n",
    "    else:\n",
    "        print (f'User name is : {user_input}')"
   ]
  },
  {
   "cell_type": "code",
   "execution_count": 6,
   "metadata": {},
   "outputs": [
    {
     "data": {
      "text/plain": [
       "NoneType"
      ]
     },
     "execution_count": 6,
     "metadata": {},
     "output_type": "execute_result"
    }
   ],
   "source": [
    "type(None)"
   ]
  },
  {
   "cell_type": "code",
   "execution_count": 7,
   "metadata": {},
   "outputs": [],
   "source": [
    "#Dictionary"
   ]
  },
  {
   "cell_type": "code",
   "execution_count": 9,
   "metadata": {},
   "outputs": [],
   "source": [
    "my_dictionary = {\n",
    "    'name': 'Darius',\n",
    "    'year': 2008,\n",
    "    False: 'This is false',\n",
    "    5: 'five',\n",
    "    'hobbies': ['tennis', 'football']\n",
    "}"
   ]
  },
  {
   "cell_type": "code",
   "execution_count": 10,
   "metadata": {},
   "outputs": [
    {
     "data": {
      "text/plain": [
       "'football'"
      ]
     },
     "execution_count": 10,
     "metadata": {},
     "output_type": "execute_result"
    }
   ],
   "source": [
    "my_dictionary['hobbies'][1]"
   ]
  },
  {
   "cell_type": "code",
   "execution_count": 11,
   "metadata": {},
   "outputs": [
    {
     "name": "stdout",
     "output_type": "stream",
     "text": [
      "Darius hobby is tennis\n",
      "Darius hobby is football\n"
     ]
    }
   ],
   "source": [
    "for hobby in my_dictionary['hobbies']:\n",
    "    print (f'Darius hobby is {hobby}')"
   ]
  },
  {
   "cell_type": "code",
   "execution_count": 12,
   "metadata": {},
   "outputs": [],
   "source": [
    "twitter_sample = {\n",
    "  \"created_at\": \"Tue Feb 27 21:11:40 +0000 2018\",\n",
    "  \"id\": 968594506663669800,\n",
    "  \"id_str\": \"968594506663669760\",\n",
    "  \"text\": \"RT @honeydrop_506: 180222 ICN #백현 #BAEKHYUNnn나의 겨울과 너nn#iHeartAwards #BestFanArmy #EXOL @weareoneEXO https://t.co/hg7I3xAlBg\",\n",
    "  \"source\": \"<a href='http://twitter.com' rel='nofollow'>Twitter Web Client</a>\",\n",
    "  \"truncated\": False,\n",
    "  \"in_reply_to_status_id\": None,\n",
    "  \"in_reply_to_status_id_str\": None,\n",
    "  \"in_reply_to_user_id\": None,\n",
    "  \"in_reply_to_user_id_str\": None,\n",
    "  \"in_reply_to_screen_name\": None,\n",
    "  \"user\": {\n",
    "    \"id\": 4448809940,\n",
    "    \"id_str\": \"4448809940\",\n",
    "    \"name\": \"ayah\",\n",
    "    \"screen_name\": \"lovbyun\",\n",
    "    \"location\": \"bbh iu jjh pcy kjd dks\",\n",
    "    \"url\": \"https://curiouscat.me/baekhyun-l\",\n",
    "    \"description\": \"hi hello I love exo\",\n",
    "    \"translator_type\": \"none\",\n",
    "    \"protected\": False,\n",
    "    \"verified\": False,\n",
    "    \"followers_count\": 1142,\n",
    "    \"friends_count\": 125,\n",
    "    \"listed_count\": 20,\n",
    "    \"favourites_count\": 5712,\n",
    "    \"statuses_count\": 4011,\n",
    "    \"created_at\": \"Fri Dec 04 03:44:59 +0000 2015\",\n",
    "    \"utc_offset\": -28800,\n",
    "    \"time_zone\": \"Pacific Time (US & Canada)\",\n",
    "    \"geo_enabled\": False,\n",
    "    \"lang\": \"en\",\n",
    "    \"contributors_enabled\": False,\n",
    "    \"is_translator\": False,\n",
    "    \"profile_background_color\": \"000000\",\n",
    "    \"profile_background_image_url\": \"http://abs.twimg.com/images/themes/theme1/bg.png\",\n",
    "    \"profile_background_image_url_https\": \"https://abs.twimg.com/images/themes/theme1/bg.png\",\n",
    "    \"profile_background_tile\": False,\n",
    "    \"profile_link_color\": \"F58EA8\",\n",
    "    \"profile_sidebar_border_color\": \"000000\",\n",
    "    \"profile_sidebar_fill_color\": \"000000\",\n",
    "    \"profile_text_color\": \"000000\",\n",
    "    \"profile_use_background_image\": False,\n",
    "    \"profile_image_url\": \"http://pbs.twimg.com/profile_images/967130320259526656/0xZ-wxXJ_normal.jpg\",\n",
    "    \"profile_image_url_https\": \"https://pbs.twimg.com/profile_images/967130320259526656/0xZ-wxXJ_normal.jpg\",\n",
    "    \"profile_banner_url\": \"https://pbs.twimg.com/profile_banners/4448809940/1519340670\",\n",
    "    \"default_profile\": False,\n",
    "    \"default_profile_image\": False,\n",
    "    \"following\": None,\n",
    "    \"follow_request_sent\": None,\n",
    "    \"notifications\": None\n",
    "  }\n",
    "}"
   ]
  },
  {
   "cell_type": "code",
   "execution_count": 13,
   "metadata": {},
   "outputs": [
    {
     "data": {
      "text/plain": [
       "125"
      ]
     },
     "execution_count": 13,
     "metadata": {},
     "output_type": "execute_result"
    }
   ],
   "source": [
    "twitter_sample['user']['friends_count']"
   ]
  },
  {
   "cell_type": "code",
   "execution_count": 14,
   "metadata": {},
   "outputs": [
    {
     "name": "stdout",
     "output_type": "stream",
     "text": [
      "3\n",
      "Ford\n",
      "{'brand': 'Ford', 'model': 'Mustang', 'year': 2020}\n"
     ]
    }
   ],
   "source": [
    "car = {\n",
    "    \"brand\": \"Ford\",\n",
    "    \"model\": \"Mustang\",\n",
    "    \"year\": \"1964\",\n",
    "}\n",
    "print(len(car))\n",
    "\n",
    "print(car[\"brand\"] )\n",
    "car[\"year\"] = 2020\n",
    "print(car)\n"
   ]
  },
  {
   "cell_type": "code",
   "execution_count": 15,
   "metadata": {},
   "outputs": [
    {
     "name": "stdout",
     "output_type": "stream",
     "text": [
      "{'brand': 'Ford', 'model': 'Mustang', 'year': 2020, 'color': 'red', 'used': True}\n"
     ]
    }
   ],
   "source": [
    "# car.setdefault()\n",
    "# solution 1\n",
    "car.update( {'color' : 'red', 'used': True} )\n",
    "print(car)"
   ]
  },
  {
   "cell_type": "code",
   "execution_count": 17,
   "metadata": {},
   "outputs": [],
   "source": [
    "# solution 2\n",
    "car[\"color\"] = 'red'\n",
    "car['used'] = True"
   ]
  },
  {
   "cell_type": "code",
   "execution_count": 18,
   "metadata": {},
   "outputs": [
    {
     "name": "stdout",
     "output_type": "stream",
     "text": [
      "Ford\n",
      "{'year': 1992, 'color': 'red', 'used': True}\n",
      "{'year': None, 'color': 'red', 'used': True}\n"
     ]
    }
   ],
   "source": [
    "car =\t{\n",
    "  \"brand\": \"Ford\",\n",
    "  \"year\": 1992,\n",
    "  'color' : 'red',\n",
    "  'used' :  True\n",
    "}\n",
    "\n",
    "print (car.pop('brand') )\n",
    "print (car)\n",
    "car[\"year\"] = None\n",
    "print (car)"
   ]
  },
  {
   "cell_type": "code",
   "execution_count": null,
   "metadata": {},
   "outputs": [],
   "source": [
    "# car.popitem() # does not allow to select which pair to take"
   ]
  },
  {
   "cell_type": "code",
   "execution_count": 19,
   "metadata": {},
   "outputs": [
    {
     "name": "stdout",
     "output_type": "stream",
     "text": [
      "key year has a value of None\n",
      "key color has a value of red\n",
      "key used has a value of True\n"
     ]
    }
   ],
   "source": [
    "#key\n",
    "for key, value in car.items(): # k, v\n",
    "    print (f'key {key} has a value of {value}')"
   ]
  },
  {
   "cell_type": "code",
   "execution_count": 20,
   "metadata": {},
   "outputs": [
    {
     "name": "stdout",
     "output_type": "stream",
     "text": [
      "value is None\n",
      "value is red\n",
      "value is True\n"
     ]
    }
   ],
   "source": [
    "#values\n",
    "for value in car.values():\n",
    "    print (f'value is {value}')"
   ]
  },
  {
   "cell_type": "code",
   "execution_count": 21,
   "metadata": {},
   "outputs": [
    {
     "name": "stdout",
     "output_type": "stream",
     "text": [
      "key is year\n",
      "key is color\n",
      "key is used\n"
     ]
    }
   ],
   "source": [
    "#only keys\n",
    "for key in car.keys():\n",
    "    print (f'key is {key}')"
   ]
  },
  {
   "cell_type": "code",
   "execution_count": null,
   "metadata": {},
   "outputs": [],
   "source": [
    "#SET"
   ]
  },
  {
   "cell_type": "code",
   "execution_count": 22,
   "metadata": {},
   "outputs": [],
   "source": [
    "fruits = {'apple', 'bananas', 'apple', 1,2,3,3,3,3,3,3,3 }"
   ]
  },
  {
   "cell_type": "code",
   "execution_count": 23,
   "metadata": {},
   "outputs": [
    {
     "name": "stdout",
     "output_type": "stream",
     "text": [
      "{1, 2, 3, 'bananas', 'apple'}\n"
     ]
    }
   ],
   "source": [
    "print (fruits)"
   ]
  },
  {
   "cell_type": "code",
   "execution_count": 24,
   "metadata": {},
   "outputs": [
    {
     "name": "stdout",
     "output_type": "stream",
     "text": [
      "{'Benas', 'Jonas', 'Darius'}\n",
      "3\n"
     ]
    }
   ],
   "source": [
    "names = ['Darius', 'Benas', 'Jonas', 'Jonas', 'Jonas', 'Jonas']\n",
    "print (set(names) )\n",
    "print (len(set(names) ) )"
   ]
  },
  {
   "cell_type": "code",
   "execution_count": 25,
   "metadata": {},
   "outputs": [
    {
     "name": "stdout",
     "output_type": "stream",
     "text": [
      "{'pineapple', 'apple', 'bananas', 'orange'}\n",
      "{'bananas', 'pear', 'mandarine', 'pineapple', 'apple', 'orange'}\n"
     ]
    }
   ],
   "source": [
    "fruits = {'apple', 'bananas', 'orange'}\n",
    "fruits.add('pineapple')\n",
    "print (fruits)\n",
    "fruits.update( ['bananas', 'pear', 'mandarine'] )\n",
    "print (fruits)"
   ]
  },
  {
   "cell_type": "code",
   "execution_count": 26,
   "metadata": {},
   "outputs": [
    {
     "ename": "TypeError",
     "evalue": "'set' object is not subscriptable",
     "output_type": "error",
     "traceback": [
      "\u001b[0;31m---------------------------------------------------------------------------\u001b[0m",
      "\u001b[0;31mTypeError\u001b[0m                                 Traceback (most recent call last)",
      "\u001b[0;32m/var/folders/wc/k06hmgr52sxcn6sr_stnt9b00000gn/T/ipykernel_13548/3906280945.py\u001b[0m in \u001b[0;36m<module>\u001b[0;34m\u001b[0m\n\u001b[0;32m----> 1\u001b[0;31m \u001b[0mfruits\u001b[0m\u001b[0;34m[\u001b[0m\u001b[0;36m0\u001b[0m\u001b[0;34m]\u001b[0m \u001b[0;31m# error\u001b[0m\u001b[0;34m\u001b[0m\u001b[0;34m\u001b[0m\u001b[0m\n\u001b[0m",
      "\u001b[0;31mTypeError\u001b[0m: 'set' object is not subscriptable"
     ]
    }
   ],
   "source": [
    "fruits[0] # error"
   ]
  },
  {
   "cell_type": "code",
   "execution_count": null,
   "metadata": {},
   "outputs": [],
   "source": [
    "# fruits.clear()\n",
    "# fruits.copy()\n",
    "# fruits.pop()\n"
   ]
  },
  {
   "cell_type": "code",
   "execution_count": 27,
   "metadata": {},
   "outputs": [
    {
     "ename": "KeyError",
     "evalue": "'bananas'",
     "output_type": "error",
     "traceback": [
      "\u001b[0;31m---------------------------------------------------------------------------\u001b[0m",
      "\u001b[0;31mKeyError\u001b[0m                                  Traceback (most recent call last)",
      "\u001b[0;32m/var/folders/wc/k06hmgr52sxcn6sr_stnt9b00000gn/T/ipykernel_13548/326642471.py\u001b[0m in \u001b[0;36m<module>\u001b[0;34m\u001b[0m\n\u001b[1;32m      1\u001b[0m \u001b[0mfruits\u001b[0m \u001b[0;34m=\u001b[0m \u001b[0;34m{\u001b[0m\u001b[0;34m'apple'\u001b[0m\u001b[0;34m,\u001b[0m \u001b[0;34m'bananas'\u001b[0m\u001b[0;34m,\u001b[0m \u001b[0;34m'orange'\u001b[0m\u001b[0;34m}\u001b[0m\u001b[0;34m\u001b[0m\u001b[0;34m\u001b[0m\u001b[0m\n\u001b[1;32m      2\u001b[0m \u001b[0mfruits\u001b[0m\u001b[0;34m.\u001b[0m\u001b[0mremove\u001b[0m\u001b[0;34m(\u001b[0m\u001b[0;34m'bananas'\u001b[0m\u001b[0;34m)\u001b[0m\u001b[0;34m\u001b[0m\u001b[0;34m\u001b[0m\u001b[0m\n\u001b[0;32m----> 3\u001b[0;31m \u001b[0mfruits\u001b[0m\u001b[0;34m.\u001b[0m\u001b[0mremove\u001b[0m\u001b[0;34m(\u001b[0m\u001b[0;34m'bananas'\u001b[0m\u001b[0;34m)\u001b[0m\u001b[0;34m\u001b[0m\u001b[0;34m\u001b[0m\u001b[0m\n\u001b[0m",
      "\u001b[0;31mKeyError\u001b[0m: 'bananas'"
     ]
    }
   ],
   "source": [
    "fruits = {'apple', 'bananas', 'orange'}\n",
    "fruits.remove('bananas')\n",
    "fruits.remove('bananas')\n",
    "# to remove must be a number"
   ]
  },
  {
   "cell_type": "code",
   "execution_count": 28,
   "metadata": {},
   "outputs": [
    {
     "name": "stdout",
     "output_type": "stream",
     "text": [
      "{'apple', 'orange'}\n"
     ]
    }
   ],
   "source": [
    "fruits = {'apple', 'bananas', 'orange'}\n",
    "fruits.discard('bananas')\n",
    "fruits.discard('bananas')\n",
    "fruits.discard('bananas')\n",
    "fruits.discard('bananas')\n",
    "fruits.discard('bananas')\n",
    "fruits.discard('bananas')\n",
    "print(fruits)"
   ]
  },
  {
   "cell_type": "code",
   "execution_count": 29,
   "metadata": {},
   "outputs": [
    {
     "name": "stdout",
     "output_type": "stream",
     "text": [
      "{1, 2, 5, 7}\n",
      "{9, 3}\n",
      "{1, 2, 3, 5, 7, 9, 10, 11, 15, 250}\n"
     ]
    }
   ],
   "source": [
    "set_1 = { 1, 2, 5, 3 ,7 ,9 }\n",
    "set_2 = { 10,11,15, 3 , 250 ,9 }\n",
    "print (set_1.difference(set_2) )\n",
    "print (set_1.intersection(set_2) ) \n",
    "print ( set_1.union(set_2) ) #combines"
   ]
  },
  {
   "cell_type": "code",
   "execution_count": 30,
   "metadata": {},
   "outputs": [
    {
     "name": "stdout",
     "output_type": "stream",
     "text": [
      "True\n",
      "True\n"
     ]
    }
   ],
   "source": [
    "set_1 = { 2, 3, 4 }\n",
    "set_2 = { 1,2,3,4,5 }\n",
    "print (set_1.issubset(set_2) ) #belongs to set1\n",
    "print (set_2.issuperset(set_1) )"
   ]
  },
  {
   "cell_type": "code",
   "execution_count": 31,
   "metadata": {},
   "outputs": [
    {
     "name": "stdout",
     "output_type": "stream",
     "text": [
      "{'apple', 'orange'}\n",
      "False\n",
      "True\n"
     ]
    }
   ],
   "source": [
    "print (fruits)\n",
    "print ('bananas' in fruits)\n",
    "print ('apple' in fruits)"
   ]
  },
  {
   "cell_type": "code",
   "execution_count": 32,
   "metadata": {},
   "outputs": [
    {
     "name": "stdout",
     "output_type": "stream",
     "text": [
      "{' mercedes', 'ford', 'bmw', ('bmw', 2015), 'opel'}\n"
     ]
    }
   ],
   "source": [
    "car = {\"ford\", \"opel\", \" mercedes\"}\n",
    "car.add (\"bmw\")\n",
    "car.add ((\"bmw\", 2015))\n",
    "print (car)"
   ]
  },
  {
   "cell_type": "code",
   "execution_count": 33,
   "metadata": {},
   "outputs": [
    {
     "name": "stdout",
     "output_type": "stream",
     "text": [
      "[' mercedes', 'ford', 'bmw', ('bmw', 2015), 'opel']\n",
      "['Audi', 'ford', 'bmw', ('bmw', 2015), 'opel']\n",
      "{'ford', 'bmw', ('bmw', 2015), 'opel', 'Audi'}\n"
     ]
    }
   ],
   "source": [
    "# solutions 1\n",
    "tmp_list = list(car)\n",
    "print (tmp_list)\n",
    "tmp_list[0] = 'Audi'\n",
    "print (tmp_list)\n",
    "car = set(tmp_list)\n",
    "print (car)"
   ]
  },
  {
   "cell_type": "code",
   "execution_count": 34,
   "metadata": {},
   "outputs": [
    {
     "name": "stdout",
     "output_type": "stream",
     "text": [
      "{'ford', ' mercedes', 'opel', 'bmw'}\n",
      "{'ford', ' mercedes', 'opel'}\n",
      "{'ford', ' mercedes', 'opel', 'Audi'}\n"
     ]
    }
   ],
   "source": [
    "car = {\"ford\", \"opel\", \" mercedes\"}\n",
    "car.add (\"bmw\")\n",
    "# solutions 2\n",
    "print (car)\n",
    "car.discard('bmw')\n",
    "print (car)\n",
    "car.add('Audi')\n",
    "print (car)"
   ]
  },
  {
   "cell_type": "code",
   "execution_count": 35,
   "metadata": {},
   "outputs": [
    {
     "name": "stdout",
     "output_type": "stream",
     "text": [
      "{'watermelon', 'banana', 'apple', 'cherry'}\n",
      "{'pear', 'cherry', 'watermelon', 'pineapple', 'banana', 'apple', 'tomato', 'orange'}\n",
      "{'pear', 'cherry', 'watermelon', 'pineapple', 'banana', 'tomato', 'orange'}\n",
      "7\n",
      "7\n"
     ]
    }
   ],
   "source": [
    "fruits = {\"apple\", \"banana\", \"cherry\"}\n",
    "fruits.add ('watermelon')\n",
    "print (fruits)\n",
    "fruits.update( ['tomato', 'pineapple', 'pear', 'orange', 'apple' ] )\n",
    "print (fruits)\n",
    "fruits.remove('apple')\n",
    "fruits.discard('apple')\n",
    "print (fruits)\n",
    "print (len(fruits))\n",
    "fruits.add('cherry')\n",
    "print (len(fruits))\n"
   ]
  },
  {
   "cell_type": "code",
   "execution_count": 36,
   "metadata": {},
   "outputs": [],
   "source": [
    "song_1 = \"\"\"\n",
    "Is this the real life?\n",
    "Is this just fantasy?\n",
    "Caught in a landside,\n",
    "No escape from reality\n",
    "Open your eyes,\n",
    "Look up to the skies and see,\n",
    "I'm just a poor boy, I need no sympathy,\n",
    "Because I'm easy come, easy go,\n",
    "Little high, little low,\n",
    "Any way the wind blows doesn't really matter to\n",
    "Me, to me\n",
    "Mamaaa,\n",
    "Just killed a man,\n",
    "Put a gun against his head, pulled my trigger,\n",
    "Now he's dead\n",
    "Mamaaa, life had just begun,\n",
    "But now I've gone and thrown it all away\n",
    "Mama, oooh,\n",
    "Didn't mean to make you cry,\n",
    "If I'm not back again this time tomorrow,\n",
    "Carry on, carry on as if nothing really matters\n",
    "Too late, my time has come,\n",
    "Sends shivers down my spine, body's aching all\n",
    "The time\n",
    "Goodbye, everybody, I've got to go,\n",
    "Gotta leave you all behind and face the truth\n",
    "Mama, oooh\n",
    "I don't want to die,\n",
    "I sometimes wish I'd never been born at all.\n",
    "I see a little silhouetto of a man,\n",
    "Scaramouch, Scaramouch, will you do the Fandango!\n",
    "Thunderbolts and lightning, very, very frightening me\n",
    "Galileo, Galileo\n",
    "Galileo, Galileo\n",
    "Galileo, Figaro - magnificoo\n",
    "I'm just a poor boy nobody loves me\n",
    "He's just a poor boy from a poor family,\n",
    "Spare him his life from this monstrosity\n",
    "Easy come, easy go, will you let me go\n",
    "Bismillah! No, we will not let you go\n",
    "(Let him go!) Bismillah! We will not let you go\n",
    "(Let him go!) Bismillah! We will not let you go\n",
    "(Let me go) Will not let you go\n",
    "(Let me go)(Never) Never let you go\n",
    "(Let me go) (Never) let you go (Let me go) Ah\n",
    "No, no, no, no, no, no, no\n",
    "Oh mama mia, mama mia, mama mia, let me go\n",
    "Beelzebub has a devil put aside for me, for me,\n",
    "For meee\n",
    "So you think you can stop me and spit in my eye\n",
    "So you think you can love me and leave me to die\n",
    "Oh, baby, can't do this to me, baby,\n",
    "Just gotta get out, just gotta get right outta here\n",
    "Nothing really matters, Anyone can see,\n",
    "Nothing really matters,\n",
    "Nothing really matters to me\n",
    "Any way the wind blows...\n",
    "\"\"\""
   ]
  },
  {
   "cell_type": "code",
   "execution_count": 42,
   "metadata": {},
   "outputs": [],
   "source": [
    "# print (song_1 )\n",
    "# print (  song_1.lower().replace('the', '').replace('?', ' ').replace(',', ' ').replace(\"\"\"!\"\"\", ' ').replace('\\'', ' ' ).replace('-', ' ' ).replace('(', ' ' ).replace(')', ' ' ) )\n",
    "filtered_song_1 = song_1.lower().replace('the', '').replace('?', ' ').replace('.', ' ').replace(',', ' ').replace(\"\"\"!\"\"\", ' ').replace('\\'', ' ' ).replace('-', ' ' ).replace('(', ' ' ).replace(')', ' ' ).split()\n",
    "# print (filtered_song_1)"
   ]
  },
  {
   "cell_type": "code",
   "execution_count": 41,
   "metadata": {},
   "outputs": [
    {
     "name": "stdout",
     "output_type": "stream",
     "text": [
      "375\n"
     ]
    }
   ],
   "source": [
    "print (len(filtered_song_1) )"
   ]
  },
  {
   "cell_type": "code",
   "execution_count": 43,
   "metadata": {},
   "outputs": [
    {
     "name": "stdout",
     "output_type": "stream",
     "text": [
      "158\n"
     ]
    }
   ],
   "source": [
    "unique_words = set(filtered_song_1)\n",
    "print (len(unique_words))"
   ]
  },
  {
   "cell_type": "code",
   "execution_count": 44,
   "metadata": {},
   "outputs": [
    {
     "data": {
      "text/plain": [
       "42.13333333333333"
      ]
     },
     "execution_count": 44,
     "metadata": {},
     "output_type": "execute_result"
    }
   ],
   "source": [
    "len(unique_words) / len(filtered_song_1) * 100"
   ]
  },
  {
   "cell_type": "code",
   "execution_count": 45,
   "metadata": {},
   "outputs": [
    {
     "name": "stdout",
     "output_type": "stream",
     "text": [
      "{'is': 2, 'this': 5, 'real': 1, 'life': 3, 'just': 8, 'fantasy': 1, 'caught': 1, 'in': 2, 'a': 10, 'landside': 1, 'no': 10, 'escape': 1, 'from': 3, 'reality': 1, 'open': 1, 'your': 1, 'eyes': 1, 'look': 1, 'up': 1, 'to': 9, 'skies': 1, 'and': 6, 'see': 3, 'i': 11, 'm': 4, 'poor': 4, 'boy': 3, 'need': 1, 'sympathy': 1, 'because': 1, 'easy': 4, 'come': 3, 'go': 17, 'little': 3, 'high': 1, 'low': 1, 'any': 2, 'way': 2, 'wind': 2, 'blows': 2, 'doesn': 1, 't': 4, 'really': 5, 'matter': 1, 'me': 17, 'mamaaa': 2, 'killed': 1, 'man': 2, 'put': 2, 'gun': 1, 'against': 1, 'his': 2, 'head': 1, 'pulled': 1, 'my': 4, 'trigger': 1, 'now': 2, 'he': 2, 's': 3, 'dead': 1, 'had': 1, 'begun': 1, 'but': 1, 've': 2, 'gone': 1, 'thrown': 1, 'it': 1, 'all': 4, 'away': 1, 'mama': 5, 'oooh': 2, 'didn': 1, 'mean': 1, 'make': 1, 'you': 14, 'cry': 1, 'if': 2, 'not': 5, 'back': 1, 'again': 1, 'time': 3, 'tomorrow': 1, 'carry': 2, 'on': 2, 'as': 1, 'nothing': 4, 'matters': 4, 'too': 1, 'late': 1, 'has': 2, 'sends': 1, 'shivers': 1, 'down': 1, 'spine': 1, 'body': 1, 'aching': 1, 'goodbye': 1, 'everybody': 1, 'got': 1, 'gotta': 3, 'leave': 2, 'behind': 1, 'face': 1, 'truth': 1, 'don': 1, 'want': 1, 'die': 2, 'sometimes': 1, 'wish': 1, 'd': 1, 'never': 4, 'been': 1, 'born': 1, 'at': 1, 'silhouetto': 1, 'of': 1, 'scaramouch': 2, 'will': 6, 'do': 2, 'fandango': 1, 'thunderbolts': 1, 'lightning': 1, 'very': 2, 'frightening': 1, 'galileo': 5, 'figaro': 1, 'magnificoo': 1, 'nobody': 1, 'loves': 1, 'family': 1, 'spare': 1, 'him': 3, 'monstrosity': 1, 'let': 14, 'bismillah': 3, 'we': 3, 'ah': 1, 'oh': 2, 'mia': 3, 'beelzebub': 1, 'devil': 1, 'aside': 1, 'for': 3, 'meee': 1, 'so': 2, 'think': 2, 'can': 4, 'stop': 1, 'spit': 1, 'eye': 1, 'love': 1, 'baby': 2, 'get': 2, 'out': 1, 'right': 1, 'outta': 1, 'here': 1, 'anyone': 1}\n"
     ]
    }
   ],
   "source": [
    "word_dict = {}\n",
    "\n",
    "for word in filtered_song_1:\n",
    "    if word in word_dict:\n",
    "        word_dict[word]+=1\n",
    "    else:\n",
    "        word_dict[word]=1\n",
    "print(word_dict)"
   ]
  },
  {
   "cell_type": "code",
   "execution_count": 46,
   "metadata": {},
   "outputs": [
    {
     "name": "stdout",
     "output_type": "stream",
     "text": [
      "{'all': 4, 'open': 1, 'm': 4, 'your': 1, 'up': 1, 'head': 1, 'real': 1, 'mia': 3, 'if': 2, 't': 4, 'easy': 4, 'reality': 1, 'will': 6, 'on': 2, 'begun': 1, 'didn': 1, 'really': 5, 'outta': 1, 'behind': 1, 'cry': 1, 'not': 5, 'can': 4, 'don': 1, 'born': 1, 'late': 1, 'goodbye': 1, 've': 2, 'mama': 5, 'thunderbolts': 1, 'as': 1, 'pulled': 1, 'a': 10, 'look': 1, 'magnificoo': 1, 'out': 1, 'monstrosity': 1, 'we': 3, 'in': 2, 'nobody': 1, 'let': 14, 'spine': 1, 'doesn': 1, 'just': 8, 'to': 9, 'back': 1, 'gotta': 3, 'of': 1, 'it': 1, 'spit': 1, 'carry': 2, 'spare': 1, 'oooh': 2, 'because': 1, 'very': 2, 'loves': 1, 'me': 17, 'got': 1, 'poor': 4, 'put': 2, 'make': 1, 'eye': 1, 'get': 2, 'you': 14, 's': 3, 'family': 1, 'is': 2, 'd': 1, 'sends': 1, 'die': 2, 'mean': 1, 'man': 2, 'any': 2, 'here': 1, 'against': 1, 'do': 2, 'scaramouch': 2, 'right': 1, 'and': 6, 'beelzebub': 1, 'way': 2, 'figaro': 1, 'bismillah': 3, 'matters': 4, 'i': 11, 'so': 2, 'baby': 2, 'sympathy': 1, 'silhouetto': 1, 'devil': 1, 'little': 3, 'boy': 3, 'now': 2, 'wish': 1, 'for': 3, 'meee': 1, 'ah': 1, 'caught': 1, 'shivers': 1, 'sometimes': 1, 'leave': 2, 'oh': 2, 'anyone': 1, 'he': 2, 'away': 1, 'come': 3, 'frightening': 1, 'go': 17, 'body': 1, 'landside': 1, 'fantasy': 1, 'him': 3, 'love': 1, 'time': 3, 'mamaaa': 2, 'thrown': 1, 'want': 1, 'eyes': 1, 'nothing': 4, 'had': 1, 'see': 3, 'escape': 1, 'dead': 1, 'trigger': 1, 'stop': 1, 'been': 1, 'at': 1, 'need': 1, 'gone': 1, 'has': 2, 'everybody': 1, 'wind': 2, 'think': 2, 'too': 1, 'from': 3, 'life': 3, 'aching': 1, 'this': 5, 'fandango': 1, 'gun': 1, 'my': 4, 'face': 1, 'matter': 1, 'high': 1, 'but': 1, 'down': 1, 'truth': 1, 'his': 2, 'killed': 1, 'aside': 1, 'no': 10, 'low': 1, 'again': 1, 'tomorrow': 1, 'lightning': 1, 'skies': 1, 'never': 4, 'blows': 2, 'galileo': 5}\n"
     ]
    }
   ],
   "source": [
    "# word_dict = {}\n",
    "\n",
    "# for unique_word in unique_words:\n",
    "#     word_dict[unique_word] = filtered_song_1.count(unique_word)\n",
    "\n",
    "word_dict = {\n",
    "    unique_word: filtered_song_1.count(unique_word)\n",
    "    for unique_word in unique_words\n",
    "}\n",
    "\n",
    "print (word_dict)\n"
   ]
  },
  {
   "cell_type": "code",
   "execution_count": null,
   "metadata": {},
   "outputs": [],
   "source": []
  }
 ],
 "metadata": {
  "interpreter": {
   "hash": "aee8b7b246df8f9039afb4144a1f6fd8d2ca17a180786b69acc140d282b71a49"
  },
  "kernelspec": {
   "display_name": "Python 3.10.0 64-bit",
   "language": "python",
   "name": "python3"
  },
  "language_info": {
   "codemirror_mode": {
    "name": "ipython",
    "version": 3
   },
   "file_extension": ".py",
   "mimetype": "text/x-python",
   "name": "python",
   "nbconvert_exporter": "python",
   "pygments_lexer": "ipython3",
   "version": "3.10.0"
  },
  "orig_nbformat": 4
 },
 "nbformat": 4,
 "nbformat_minor": 2
}
