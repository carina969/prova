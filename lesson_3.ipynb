{
 "cells": [
  {
   "cell_type": "code",
   "execution_count": null,
   "metadata": {},
   "outputs": [],
   "source": [
    "# 1. for a given string, change all occurences of its first character to '&', except the first character itself\n",
    "my_string = 'exercise'\n",
    "result =my_string[0]+my_string[1:].replace(my_string[0],'&')\n",
    "print(result)"
   ]
  },
  {
   "cell_type": "code",
   "execution_count": null,
   "metadata": {},
   "outputs": [],
   "source": [
    "# 2. Find all occurences of a substring in a given text by ignoring letter case.\n",
    "text = 'We few, we happy few, we band of brothers'\n",
    "substring = 'We'\n",
    "print(text.lower())\n",
    "print(substring.lower())\n",
    "text.lower().count(substring.lower())"
   ]
  },
  {
   "cell_type": "code",
   "execution_count": null,
   "metadata": {},
   "outputs": [],
   "source": [
    "#3 find the last position (index) of a given substring\n",
    "text = \"I felt happy because I saw the others were happy and because I knew I should feel happy, but I wasn't really happy.\"\n",
    "substring = 'happy'\n",
    "text.rfind(substring)\n"
   ]
  },
  {
   "cell_type": "code",
   "execution_count": null,
   "metadata": {},
   "outputs": [],
   "source": [
    "my_int = 6\n",
    "my_float = 6.\n",
    "print (type(my_int))\n",
    "print (type(my_float))"
   ]
  },
  {
   "cell_type": "code",
   "execution_count": null,
   "metadata": {},
   "outputs": [],
   "source": [
    "3+9"
   ]
  },
  {
   "cell_type": "code",
   "execution_count": null,
   "metadata": {},
   "outputs": [],
   "source": [
    "3+3."
   ]
  },
  {
   "cell_type": "code",
   "execution_count": null,
   "metadata": {},
   "outputs": [],
   "source": [
    "print(3-9)\n",
    "print(3*9)\n",
    "print(3/9)\n",
    "print(3/3)\n",
    "print(3**9)\n",
    "print(3**2)\n",
    "print (9//2)"
   ]
  },
  {
   "cell_type": "code",
   "execution_count": null,
   "metadata": {},
   "outputs": [],
   "source": [
    "4%5"
   ]
  },
  {
   "cell_type": "code",
   "execution_count": null,
   "metadata": {},
   "outputs": [],
   "source": [
    "6%5"
   ]
  },
  {
   "cell_type": "code",
   "execution_count": null,
   "metadata": {},
   "outputs": [],
   "source": [
    "1465526 % 2\n",
    "# 0 means that the number is even, 1 means that it is not even\n",
    "print ('even',1465526 % 2)\n",
    "print ('uneven',1465527 % 2)"
   ]
  },
  {
   "cell_type": "code",
   "execution_count": null,
   "metadata": {},
   "outputs": [],
   "source": [
    "5.5 % 2"
   ]
  },
  {
   "cell_type": "code",
   "execution_count": null,
   "metadata": {},
   "outputs": [],
   "source": [
    "my_int_1 = 13\n",
    "my_int_2 = 3\n",
    "print (f'sum:{my_int_1 + my_int_2}')\n",
    "print (f'substract:{my_int_1 - my_int_2}')\n",
    "print (f'multiply:{my_int_1 * my_int_2}')\n",
    "print (f'power of :{my_int_1 ** my_int_2}')\n",
    "print (f'devide:{my_int_1 / my_int_2}')\n",
    "print (f'modulus:{my_int_1 % my_int_2}')\n"
   ]
  },
  {
   "cell_type": "code",
   "execution_count": null,
   "metadata": {},
   "outputs": [],
   "source": [
    "my_float_1 = 13.4198497\n",
    "my_float_2 = 3.14\n",
    "print (f'sum:{my_float_1  + my_float_2}')\n",
    "print (f'substract:{my_float_1 - my_float_2}')\n",
    "print (f'multiply:{my_float_1  * my_float_2}')\n",
    "print (f'power of :{my_float_1  ** my_float_2}')\n",
    "print (f'devide:{my_float_1  / my_float_2}')\n",
    "print (f'modulus:{my_float_1  % my_float_2}')"
   ]
  },
  {
   "cell_type": "code",
   "execution_count": null,
   "metadata": {},
   "outputs": [],
   "source": [
    "dist_moon = 384000\n",
    "dist_sun = 150000000\n",
    "dist_sun / dist_moon"
   ]
  },
  {
   "cell_type": "code",
   "execution_count": null,
   "metadata": {},
   "outputs": [],
   "source": [
    "speed = 150\n",
    "print (f'seconds to the moon {dist_moon/speed*3600}')\n",
    "print (f'hours to the moon {dist_moon/speed}')\n",
    "print (f'days to the moon {dist_moon/speed/24}')\n",
    "print (f'months to the moon {dist_moon/speed/24/30}')\n",
    "print (f'years to the moon {dist_moon/speed/24/30/12}')"
   ]
  },
  {
   "cell_type": "code",
   "execution_count": null,
   "metadata": {},
   "outputs": [],
   "source": [
    "import datetime\n",
    "print(datetime.datetime.now())\n",
    "my_birthday = datetime.date (1994,10,14)\n",
    "datetime.datetime.now().date() - my_birthday\n",
    "\n",
    "delta = datetime.timedelta(seconds = dist_moon/speed*3600)\n",
    "print(f' We would reach the moon on {datetime.datetime.now() + delta}')"
   ]
  },
  {
   "cell_type": "code",
   "execution_count": null,
   "metadata": {},
   "outputs": [],
   "source": [
    "my_bool = 1 > 2\n",
    "print (my_bool)\n",
    "print (type(my_bool))\n"
   ]
  },
  {
   "cell_type": "code",
   "execution_count": null,
   "metadata": {},
   "outputs": [],
   "source": [
    "\n",
    "my_bool_2 = True\n",
    "my_bool_3 = False\n",
    "#true and false must begin with capital letter\n",
    "\n",
    "print (my_int)\n",
    "is_even = my_int % 2 == 0 \n",
    "print (f'my_int is even {is_even}')"
   ]
  },
  {
   "cell_type": "code",
   "execution_count": null,
   "metadata": {},
   "outputs": [],
   "source": [
    "## Comparison operators\n",
    "\n",
    "print (f'equal to operator ==: {1 == 1}')\n",
    "print (f'equal to operator ==: {1 == 10}')\n",
    "print (f'not equal to operator !=: {1 != 1}')\n",
    "print (f'not equal to operator !=: {1 != 10}')\n",
    "\n",
    "print (f'more to operator >: {15 > 10}')\n",
    "print (f'more to operator >=: {10 >= 10}')\n",
    "print (f'more to operator <: {1 < 10}')\n",
    "print (f'more to operator <=: {10 <= 10}')"
   ]
  },
  {
   "cell_type": "code",
   "execution_count": null,
   "metadata": {},
   "outputs": [],
   "source": [
    "# true and true\n",
    "10> 2 and 2 < 5\n"
   ]
  },
  {
   "cell_type": "code",
   "execution_count": null,
   "metadata": {},
   "outputs": [],
   "source": [
    "# true and false (nei jei vienas false, tada visas false)\n",
    "10 > 2 and 10 < 5"
   ]
  },
  {
   "cell_type": "code",
   "execution_count": null,
   "metadata": {},
   "outputs": [],
   "source": [
    "# true or true (ar bent viena puse true)\n",
    "10 > 2 or 10 < 5"
   ]
  },
  {
   "cell_type": "code",
   "execution_count": null,
   "metadata": {},
   "outputs": [],
   "source": [
    "# false and false\n",
    "10 > 2 and 10 < 5"
   ]
  },
  {
   "cell_type": "code",
   "execution_count": null,
   "metadata": {},
   "outputs": [],
   "source": [
    "True and 10 > 5 and 10 % 2 == 0 or False\n",
    "# <-- True ---> and <--- True --> or\n",
    "# <-- True --------------True --> or"
   ]
  },
  {
   "cell_type": "code",
   "execution_count": null,
   "metadata": {},
   "outputs": [],
   "source": [
    "True and 10 > 5 and 11 % 2 == 0 or False\n",
    "# <-- True ---> and <--- False ---> or\n",
    "# <---------------False ----------> or False"
   ]
  },
  {
   "cell_type": "code",
   "execution_count": null,
   "metadata": {},
   "outputs": [],
   "source": [
    "print (bool ('Some text'))\n",
    "print (bool (''))\n",
    "print (bool (' '))"
   ]
  },
  {
   "cell_type": "code",
   "execution_count": null,
   "metadata": {},
   "outputs": [],
   "source": [
    "print (bool ('5'))\n",
    "print (bool (0))\n",
    "print (bool ('1'))\n",
    "print (bool ('-1'))"
   ]
  },
  {
   "cell_type": "code",
   "execution_count": null,
   "metadata": {},
   "outputs": [],
   "source": [
    "print (bool ('5.0'))\n",
    "print (bool (0.0))\n",
    "# it becomes false when it's = to 0, but not 0.0\n",
    "print (bool ('1.0'))\n",
    "print (bool ('-1.0'))\n",
    "print (bool ('-555774.0'))\n",
    "print (bool ('0.5'))"
   ]
  },
  {
   "cell_type": "code",
   "execution_count": null,
   "metadata": {},
   "outputs": [],
   "source": [
    "not 5 > 2"
   ]
  },
  {
   "cell_type": "code",
   "execution_count": null,
   "metadata": {},
   "outputs": [],
   "source": [
    "not_even =  not 10 % 2 == 0\n",
    "print (not_even)\n",
    "not_even_2 = 10 % 2 != 0\n",
    "print (not_even_2)\n"
   ]
  },
  {
   "cell_type": "code",
   "execution_count": null,
   "metadata": {},
   "outputs": [],
   "source": [
    "sum = 0\n",
    "sum = sum + 5\n",
    "sum = sum + 10\n",
    "sum = sum - 3\n",
    "print (sum)"
   ]
  },
  {
   "cell_type": "code",
   "execution_count": null,
   "metadata": {},
   "outputs": [],
   "source": [
    "sum = 0\n",
    "sum += 5\n",
    "sum += 10\n",
    "sum -= 3\n",
    "print (sum)"
   ]
  },
  {
   "cell_type": "code",
   "execution_count": null,
   "metadata": {},
   "outputs": [],
   "source": [
    "multiply = 1\n",
    "multiply *= 10\n",
    "multiply *= 10\n",
    "multiply *= 10\n",
    "print (multiply)\n"
   ]
  },
  {
   "cell_type": "code",
   "execution_count": null,
   "metadata": {},
   "outputs": [],
   "source": [
    "# membership operator\n",
    "text = 'Hello world'\n",
    "print ('world' in text)\n",
    "print ('World' in text)\n",
    "print ('world ' in text)\n",
    "print ('Darius' not in text)"
   ]
  },
  {
   "cell_type": "code",
   "execution_count": null,
   "metadata": {},
   "outputs": [],
   "source": [
    "#List\n",
    "my_list = [1, 5, 10, 15]\n"
   ]
  },
  {
   "cell_type": "code",
   "execution_count": null,
   "metadata": {},
   "outputs": [],
   "source": [
    "print ('lengh: ', len (my_list))\n",
    "print ('1st', my_list[0])\n",
    "print('slice: ', my_list[2:])"
   ]
  },
  {
   "cell_type": "code",
   "execution_count": null,
   "metadata": {},
   "outputs": [],
   "source": [
    "my_list_2 = [10, 1, 1, 2, 2, 'Darius', 'Vilnius',True, 1 > 10]\n",
    "print(my_list_2)"
   ]
  },
  {
   "cell_type": "code",
   "execution_count": null,
   "metadata": {},
   "outputs": [],
   "source": [
    "my_list_3 = [1, 5, 1, 14984, 10, 15, 54]\n",
    "print (my_list_3)\n",
    "# print ?(my_list_3.sort()) # retursn NONE, \n",
    "my_list_3.sort()\n",
    "print (my_list_3)\n",
    "my_list_3.sort(reverse =True)\n",
    "print(my_list_3)"
   ]
  },
  {
   "cell_type": "code",
   "execution_count": null,
   "metadata": {},
   "outputs": [],
   "source": [
    "my_list_4 = [1, 5, 1,  ['New list inside', 'Vilnius'], 14984, 10, 15, 54]\n",
    "print (my_list_4)"
   ]
  }
 ],
 "metadata": {
  "interpreter": {
   "hash": "aee8b7b246df8f9039afb4144a1f6fd8d2ca17a180786b69acc140d282b71a49"
  },
  "kernelspec": {
   "display_name": "Python 3.10.0 64-bit",
   "language": "python",
   "name": "python3"
  },
  "language_info": {
   "codemirror_mode": {
    "name": "ipython",
    "version": 3
   },
   "file_extension": ".py",
   "mimetype": "text/x-python",
   "name": "python",
   "nbconvert_exporter": "python",
   "pygments_lexer": "ipython3",
   "version": "3.10.0"
  },
  "orig_nbformat": 4
 },
 "nbformat": 4,
 "nbformat_minor": 2
}
