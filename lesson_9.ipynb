{
 "cells": [
  {
   "cell_type": "markdown",
   "metadata": {},
   "source": [
    "# Homework 5"
   ]
  },
  {
   "cell_type": "markdown",
   "metadata": {},
   "source": [
    "Write a function that accepts two variables of list type, removes all values greater than 10 from the first filter, leaves only values with at least two digits in the second, sum the values of the first list, sum the values of the second, return the product of the two modified lists.\n",
    "\n",
    "functionExercise([10,9,6,16,15,55,2,7],[20,642,33,76,9,7,2])\n",
    "\n",
    "result: 74016\n",
    "\n",
    "1) two variables that will be lists\n",
    "2) remove values >10 from the first list\n",
    "3)  only values of at least two digits will remain in the second list\n",
    "4)  sum the members of both lists -> two numbers\n",
    "5)  return the product of the sums (the sum of the first list, the sum of the second list)"
   ]
  },
  {
   "cell_type": "code",
   "execution_count": 1,
   "metadata": {},
   "outputs": [],
   "source": [
    "def functionExercise (list1, list2):\n",
    "    list1 = [number for number in list1 if number < 10]\n",
    "    # print (list1)\n",
    "    sum1 = sum(list1)\n",
    "\n",
    "    list2 = [number for number in list2 if abs(number) >= 10]\n",
    "    # print (list2)\n",
    "    sum2 = sum(list2)\n",
    "\n",
    "    result = sum1 * sum2\n",
    "    print(f'The Product of this super weird function is: {result}')\n",
    "    return result"
   ]
  },
  {
   "cell_type": "code",
   "execution_count": 3,
   "metadata": {},
   "outputs": [],
   "source": [
    "def functionExercise (list1, list2) -> int:\n",
    "    # list_1_tmp = [number for number in list1 if number < 10]\n",
    "    \n",
    "    list_1_tmp = []\n",
    "    for number in list1:\n",
    "        if number < 10:\n",
    "            list_1_tmp.append(number)\n",
    "    print (list_1_tmp)\n",
    "    sum1 = sum(list_1_tmp)\n",
    "\n",
    "    # list_2_tmp = [number for number in list2 if abs(number) >= 10]\n",
    "    list_2_tmp = []\n",
    "    for number in list2:\n",
    "        if abs(number) >= 10:\n",
    "            list_2_tmp.append(number)\n",
    "    print (list_2_tmp)\n",
    "    sum2 = sum(list_2_tmp)\n",
    "\n",
    "    result = sum1 * sum2\n",
    "    print(f'The Product of this super weird function is: {result}')\n",
    "    return result"
   ]
  },
  {
   "cell_type": "code",
   "execution_count": null,
   "metadata": {},
   "outputs": [],
   "source": [
    "# don't do this\n",
    "list_1 = [ 1,2,3]\n",
    "for number in list_1:\n",
    "    print (list_1)\n",
    "    if number > 0:\n",
    "        list_1.append(5)\n",
    "        # break"
   ]
  }
 ],
 "metadata": {
  "interpreter": {
   "hash": "aee8b7b246df8f9039afb4144a1f6fd8d2ca17a180786b69acc140d282b71a49"
  },
  "kernelspec": {
   "display_name": "Python 3.10.0 64-bit",
   "language": "python",
   "name": "python3"
  },
  "language_info": {
   "codemirror_mode": {
    "name": "ipython",
    "version": 3
   },
   "file_extension": ".py",
   "mimetype": "text/x-python",
   "name": "python",
   "nbconvert_exporter": "python",
   "pygments_lexer": "ipython3",
   "version": "3.10.0"
  },
  "orig_nbformat": 4
 },
 "nbformat": 4,
 "nbformat_minor": 2
}
