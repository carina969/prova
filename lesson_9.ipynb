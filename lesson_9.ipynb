{
 "cells": [
  {
   "cell_type": "markdown",
   "metadata": {},
   "source": [
    "# Homework 5"
   ]
  },
  {
   "cell_type": "markdown",
   "metadata": {},
   "source": [
    "Write a function that accepts two variables of list type, removes all values greater than 10 from the first filter, leaves only values with at least two digits in the second, sum the values of the first list, sum the values of the second, return the product of the two modified lists.\n",
    "\n",
    "functionExercise([10,9,6,16,15,55,2,7],[20,642,33,76,9,7,2])\n",
    "\n",
    "result: 74016\n",
    "\n",
    "1) two variables that will be lists\n",
    "2) remove values >10 from the first list\n",
    "3)  only values of at least two digits will remain in the second list\n",
    "4)  sum the members of both lists -> two numbers\n",
    "5)  return the product of the sums (the sum of the first list, the sum of the second list)"
   ]
  },
  {
   "cell_type": "code",
   "execution_count": 2,
   "metadata": {},
   "outputs": [],
   "source": [
    "def functionExercise (list1, list2):\n",
    "    list1 = [number for number in list1 if number < 10]\n",
    "    # print (list1)\n",
    "    sum1 = sum(list1)\n",
    "\n",
    "    list2 = [number for number in list2 if abs(number) >= 10]\n",
    "    # print (list2)\n",
    "    sum2 = sum(list2)\n",
    "\n",
    "    result = sum1 * sum2\n",
    "    print(f'The Product of this super weird function is: {result}')\n",
    "    return result"
   ]
  },
  {
   "cell_type": "code",
   "execution_count": 3,
   "metadata": {},
   "outputs": [],
   "source": [
    "def functionExercise (list1, list2) -> int:\n",
    "    # list_1_tmp = [number for number in list1 if number < 10]\n",
    "    \n",
    "    list_1_tmp = []\n",
    "    for number in list1:\n",
    "        if number < 10:\n",
    "            list_1_tmp.append(number)\n",
    "    print (list_1_tmp)\n",
    "    sum1 = sum(list_1_tmp)\n",
    "\n",
    "    # list_2_tmp = [number for number in list2 if abs(number) >= 10]\n",
    "    list_2_tmp = []\n",
    "    for number in list2:\n",
    "        if abs(number) >= 10:\n",
    "            list_2_tmp.append(number)\n",
    "    print (list_2_tmp)\n",
    "    sum2 = sum(list_2_tmp)\n",
    "\n",
    "    result = sum1 * sum2\n",
    "    print(f'The Product of this super weird function is: {result}')\n",
    "    return result"
   ]
  },
  {
   "cell_type": "code",
   "execution_count": null,
   "metadata": {},
   "outputs": [],
   "source": [
    "# don't do this\n",
    "list_1 = [ 1,2,3]\n",
    "for number in list_1:\n",
    "    print (list_1)\n",
    "    if number > 0:\n",
    "        list_1.append(5)\n",
    "        # break"
   ]
  },
  {
   "cell_type": "code",
   "execution_count": null,
   "metadata": {},
   "outputs": [],
   "source": [
    "# def functionExercise (list1, list2):\n",
    "#     for idx, number  in enumerate(list1):\n",
    "#         print (f'index {idx}, number {number}')\n",
    "#         if number > 10:\n",
    "#             list1.pop(idx)\n",
    "#     print (list1)"
   ]
  },
  {
   "cell_type": "code",
   "execution_count": 4,
   "metadata": {},
   "outputs": [
    {
     "name": "stdout",
     "output_type": "stream",
     "text": [
      "[9, 6, 2, 7]\n",
      "[20, 642, 33, 76]\n",
      "The Product of this super weird function is: 18504\n",
      "18504\n"
     ]
    }
   ],
   "source": [
    "print ( functionExercise([10,9,6,16,15,55,2,7],[20,642,33,76,9,7,2]) )"
   ]
  },
  {
   "cell_type": "code",
   "execution_count": 6,
   "metadata": {},
   "outputs": [
    {
     "ename": "NameError",
     "evalue": "name 'list_1' is not defined",
     "output_type": "error",
     "traceback": [
      "\u001b[0;31m---------------------------------------------------------------------------\u001b[0m",
      "\u001b[0;31mNameError\u001b[0m                                 Traceback (most recent call last)",
      "\u001b[0;32m/var/folders/wc/k06hmgr52sxcn6sr_stnt9b00000gn/T/ipykernel_1382/1396626455.py\u001b[0m in \u001b[0;36m<module>\u001b[0;34m\u001b[0m\n\u001b[1;32m     14\u001b[0m     \u001b[0mprint\u001b[0m\u001b[0;34m(\u001b[0m\u001b[0;34mf\"result: {total}\"\u001b[0m\u001b[0;34m)\u001b[0m\u001b[0;34m\u001b[0m\u001b[0;34m\u001b[0m\u001b[0m\n\u001b[1;32m     15\u001b[0m \u001b[0;34m\u001b[0m\u001b[0m\n\u001b[0;32m---> 16\u001b[0;31m \u001b[0mfunctionExercise\u001b[0m\u001b[0;34m(\u001b[0m\u001b[0mlist_1\u001b[0m\u001b[0;34m,\u001b[0m \u001b[0mlist_2\u001b[0m\u001b[0;34m)\u001b[0m\u001b[0;34m\u001b[0m\u001b[0;34m\u001b[0m\u001b[0m\n\u001b[0m",
      "\u001b[0;31mNameError\u001b[0m: name 'list_1' is not defined"
     ]
    }
   ],
   "source": [
    "def functionExercise(list_1, list_2):\n",
    "    for valueList1 in reversed(list_1):\n",
    "        if (valueList1 < 10):\n",
    "            pop_value = list_1.index(valueList1)\n",
    "            list_1.pop(pop_value)\n",
    "            \n",
    "    for valueList2 in reversed(list_2):\n",
    "        valueList2_string = str(valueList2)\n",
    "        if len(valueList2_string) == 1:\n",
    "            pop_value2 = list_2.index(valueList2)\n",
    "            list_2.pop(pop_value2)\n",
    "\n",
    "    total = sum(list_1) * sum(list_2)\n",
    "    print(f\"result: {total}\")\n",
    "\n",
    "functionExercise(list_1, list_2)"
   ]
  },
  {
   "cell_type": "markdown",
   "metadata": {},
   "source": [
    " Write a function that will accept 4 arguments, three int type, the fourth string, for example (4, 4, 5, 'square') we will get the perimeter, area and volume of the square, come up with calculations for another figure, if the provided shape does not exist, return text that you don’t know this shape"
   ]
  },
  {
   "cell_type": "code",
   "execution_count": null,
   "metadata": {},
   "outputs": [],
   "source": [
    "# python typing"
   ]
  },
  {
   "cell_type": "code",
   "execution_count": 7,
   "metadata": {},
   "outputs": [],
   "source": [
    "def Calculator(length: int, width: int, height: int, shape: str) -> None:\n",
    "    # def Calculator (length=int(),width=int(),height=int(),shape = str('')):\n",
    "    # print (length)\n",
    "\n",
    "    # if not isinstance( length, (int,float) ):\n",
    "    #     raise ValueError('length is wrong type')\n",
    "\n",
    "    # print (isinstance( length, (int,float) ))\n",
    "    # print (isinstance( length, (str) ))\n",
    "    # if isinstance( length, (int,float) )\n",
    "    if isinstance( length, (int,float) ) and isinstance( width, (int,float) ) and isinstance( height, (int,float) ):\n",
    "    # if (type(length) == int) and (type(width) == int) and (type(height) == int):\n",
    "        if shape == 'cuboid':\n",
    "            perimeter = 4 * (length * width * height)\n",
    "            area = 2 * (length * width + length * height + width * height)\n",
    "            volume = length * width * height\n",
    "            print(f\"Perimeters is {perimeter}, areas is {area}, volume is  {volume}\")\n",
    "        elif shape == \"sphere\":\n",
    "            perimeter = 2 * 3.14 * length\n",
    "            area = width * 3.14 * length ** 2\n",
    "            volume = length / width * 3.14 * length ** width \n",
    "            print(f\"Perimeters is {perimeter}, areas is {area}, volume is  {volume}\")\n",
    "        else:\n",
    "            print(f\"I don't know shape {shape}. Aborting\")\n",
    "    else:\n",
    "        print(f\"Some of first 3 arguments are not numeric. \")"
   ]
  },
  {
   "cell_type": "code",
   "execution_count": 15,
   "metadata": {},
   "outputs": [],
   "source": [
    "# Calculator(10,20,3,'cuboid')\n",
    "# Calculator('1','2','3','cuboid') # still tries to execute\n",
    "# Calculator () # still tries to execute"
   ]
  },
  {
   "cell_type": "code",
   "execution_count": 16,
   "metadata": {},
   "outputs": [],
   "source": [
    "import string\n",
    "import random\n",
    "\n",
    "def password_generator(length: int) -> str:\n",
    "    symbols = string.printable\n",
    "    password = [ random.choice(symbols) for idx in range(length)]\n",
    "    password = ''.join(password)\n",
    "    return password"
   ]
  },
  {
   "cell_type": "code",
   "execution_count": 27,
   "metadata": {},
   "outputs": [
    {
     "data": {
      "text/plain": [
       "\"5'3LE3e)9?-/55TD!zh>\""
      ]
     },
     "execution_count": 27,
     "metadata": {},
     "output_type": "execute_result"
    }
   ],
   "source": [
    "password_generator(20)"
   ]
  },
  {
   "cell_type": "code",
   "execution_count": 18,
   "metadata": {},
   "outputs": [
    {
     "ename": "ImportError",
     "evalue": "cannot import name 'cube' from 'math' (/Library/Frameworks/Python.framework/Versions/3.10/lib/python3.10/lib-dynload/math.cpython-310-darwin.so)",
     "output_type": "error",
     "traceback": [
      "\u001b[0;31m---------------------------------------------------------------------------\u001b[0m",
      "\u001b[0;31mImportError\u001b[0m                               Traceback (most recent call last)",
      "\u001b[0;32m/var/folders/wc/k06hmgr52sxcn6sr_stnt9b00000gn/T/ipykernel_1382/3804338444.py\u001b[0m in \u001b[0;36m<module>\u001b[0;34m\u001b[0m\n\u001b[1;32m      1\u001b[0m \u001b[0;32mfrom\u001b[0m \u001b[0mmath\u001b[0m \u001b[0;32mimport\u001b[0m \u001b[0msin\u001b[0m\u001b[0;34m\u001b[0m\u001b[0;34m\u001b[0m\u001b[0m\n\u001b[0;32m----> 2\u001b[0;31m \u001b[0;32mfrom\u001b[0m \u001b[0mmath\u001b[0m \u001b[0;32mimport\u001b[0m \u001b[0mcube\u001b[0m \u001b[0;31m# might be you have an old version of the package/library\u001b[0m\u001b[0;34m\u001b[0m\u001b[0;34m\u001b[0m\u001b[0m\n\u001b[0m",
      "\u001b[0;31mImportError\u001b[0m: cannot import name 'cube' from 'math' (/Library/Frameworks/Python.framework/Versions/3.10/lib/python3.10/lib-dynload/math.cpython-310-darwin.so)"
     ]
    }
   ],
   "source": [
    "from math import sin\n",
    "from math import cube # might be you have an old version of the package/library"
   ]
  },
  {
   "cell_type": "code",
   "execution_count": 19,
   "metadata": {},
   "outputs": [
    {
     "name": "stdout",
     "output_type": "stream",
     "text": [
      "<list_iterator object at 0x10c0065f0>\n",
      "1\n",
      "5\n",
      "13\n"
     ]
    },
    {
     "ename": "StopIteration",
     "evalue": "",
     "output_type": "error",
     "traceback": [
      "\u001b[0;31m---------------------------------------------------------------------------\u001b[0m",
      "\u001b[0;31mStopIteration\u001b[0m                             Traceback (most recent call last)",
      "\u001b[0;32m/var/folders/wc/k06hmgr52sxcn6sr_stnt9b00000gn/T/ipykernel_1382/947727018.py\u001b[0m in \u001b[0;36m<module>\u001b[0;34m\u001b[0m\n\u001b[1;32m      4\u001b[0m \u001b[0mprint\u001b[0m\u001b[0;34m(\u001b[0m\u001b[0mnext\u001b[0m\u001b[0;34m(\u001b[0m\u001b[0mit\u001b[0m\u001b[0;34m)\u001b[0m\u001b[0;34m)\u001b[0m\u001b[0;34m\u001b[0m\u001b[0;34m\u001b[0m\u001b[0m\n\u001b[1;32m      5\u001b[0m \u001b[0mprint\u001b[0m\u001b[0;34m(\u001b[0m\u001b[0mnext\u001b[0m\u001b[0;34m(\u001b[0m\u001b[0mit\u001b[0m\u001b[0;34m)\u001b[0m\u001b[0;34m)\u001b[0m\u001b[0;34m\u001b[0m\u001b[0;34m\u001b[0m\u001b[0m\n\u001b[0;32m----> 6\u001b[0;31m \u001b[0mprint\u001b[0m\u001b[0;34m(\u001b[0m\u001b[0mnext\u001b[0m\u001b[0;34m(\u001b[0m\u001b[0mit\u001b[0m\u001b[0;34m)\u001b[0m\u001b[0;34m)\u001b[0m\u001b[0;34m\u001b[0m\u001b[0;34m\u001b[0m\u001b[0m\n\u001b[0m",
      "\u001b[0;31mStopIteration\u001b[0m: "
     ]
    }
   ],
   "source": [
    "it = iter([ 1,5,13 ])\n",
    "print (it)\n",
    "print(next(it))\n",
    "print(next(it))\n",
    "print(next(it))\n",
    "print(next(it))"
   ]
  },
  {
   "cell_type": "code",
   "execution_count": 28,
   "metadata": {},
   "outputs": [
    {
     "ename": "ZeroDivisionError",
     "evalue": "division by zero",
     "output_type": "error",
     "traceback": [
      "\u001b[0;31m---------------------------------------------------------------------------\u001b[0m",
      "\u001b[0;31mZeroDivisionError\u001b[0m                         Traceback (most recent call last)",
      "\u001b[0;32m/var/folders/wc/k06hmgr52sxcn6sr_stnt9b00000gn/T/ipykernel_1382/2769744614.py\u001b[0m in \u001b[0;36m<module>\u001b[0;34m\u001b[0m\n\u001b[0;32m----> 1\u001b[0;31m \u001b[0mx\u001b[0m \u001b[0;34m=\u001b[0m \u001b[0;36m1\u001b[0m\u001b[0;34m/\u001b[0m\u001b[0;36m0\u001b[0m\u001b[0;34m\u001b[0m\u001b[0;34m\u001b[0m\u001b[0m\n\u001b[0m",
      "\u001b[0;31mZeroDivisionError\u001b[0m: division by zero"
     ]
    }
   ],
   "source": [
    "x = 1/0"
   ]
  },
  {
   "cell_type": "code",
   "execution_count": 29,
   "metadata": {},
   "outputs": [
    {
     "name": "stdout",
     "output_type": "stream",
     "text": [
      "starting try\n",
      "handling error\n",
      "end of except\n",
      "doing finally part\n"
     ]
    }
   ],
   "source": [
    "# BAD TRY/EXCEPT\n",
    "try:\n",
    "    print('starting try')\n",
    "    text = 'asdfa' + text_2\n",
    "    x = 1/0\n",
    "    # x = 1/0.5\n",
    "    print('end of try')\n",
    "except:\n",
    "    print ('handling error')\n",
    "    print ('end of except')\n",
    "finally: # always executed\n",
    "    print ('doing finally part')\n",
    "    # close file\n",
    "    # close connection to a server\n"
   ]
  },
  {
   "cell_type": "code",
   "execution_count": 30,
   "metadata": {},
   "outputs": [
    {
     "name": "stdout",
     "output_type": "stream",
     "text": [
      "starting try\n",
      "handling error\n",
      "division by zero\n",
      "end of except\n",
      "doing finally part\n",
      "1000000.0\n"
     ]
    },
    {
     "ename": "NameError",
     "evalue": "name 'value' is not defined",
     "output_type": "error",
     "traceback": [
      "\u001b[0;31m---------------------------------------------------------------------------\u001b[0m",
      "\u001b[0;31mNameError\u001b[0m                                 Traceback (most recent call last)",
      "\u001b[0;32m/var/folders/wc/k06hmgr52sxcn6sr_stnt9b00000gn/T/ipykernel_1382/790308922.py\u001b[0m in \u001b[0;36m<module>\u001b[0;34m\u001b[0m\n\u001b[1;32m     24\u001b[0m     \u001b[0;31m# close connection to a server\u001b[0m\u001b[0;34m\u001b[0m\u001b[0;34m\u001b[0m\u001b[0m\n\u001b[1;32m     25\u001b[0m \u001b[0mprint\u001b[0m \u001b[0;34m(\u001b[0m\u001b[0mx\u001b[0m\u001b[0;34m)\u001b[0m\u001b[0;34m\u001b[0m\u001b[0;34m\u001b[0m\u001b[0m\n\u001b[0;32m---> 26\u001b[0;31m \u001b[0mprint\u001b[0m \u001b[0;34m(\u001b[0m\u001b[0mvalue\u001b[0m\u001b[0;34m)\u001b[0m\u001b[0;34m\u001b[0m\u001b[0;34m\u001b[0m\u001b[0m\n\u001b[0m",
      "\u001b[0;31mNameError\u001b[0m: name 'value' is not defined"
     ]
    }
   ],
   "source": [
    "# BETTER TRY/EXCEPT\n",
    "text_3 = 'Darius'\n",
    "my_list = ['100',2, 5]\n",
    "try:\n",
    "    print('starting try')\n",
    "    text = 'asdfa' + text_3\n",
    "    x = 1/0\n",
    "    # x = 1/0.5\n",
    "    value = my_list[3]\n",
    "    print('end of try')\n",
    "except ZeroDivisionError as e : # always except a specific error \n",
    "    print ('handling error')\n",
    "    print (e) # read about traceback\n",
    "    x = 1/0.000001\n",
    "    print ('end of except')\n",
    "except IndexError as e: \n",
    "    print(e)\n",
    "    print ('index error occurred, taking first value')\n",
    "    value = my_list[0]\n",
    "\n",
    "finally: # always executed\n",
    "    print ('doing finally part')\n",
    "    # close file\n",
    "    # close connection to a server\n",
    "print (x)\n",
    "print (value)"
   ]
  },
  {
   "cell_type": "code",
   "execution_count": 31,
   "metadata": {},
   "outputs": [
    {
     "name": "stdout",
     "output_type": "stream",
     "text": [
      "156\n"
     ]
    }
   ],
   "source": [
    "# my_list = ['100',2, 5]\n",
    "my_list = ['100',2, 5, 156,68496]\n",
    "my_index = 3\n",
    "if len(my_list) >=  my_index + 1: \n",
    "    value = my_list[my_index]\n",
    "else:\n",
    "    value = my_list[0]\n",
    "print (value)"
   ]
  },
  {
   "cell_type": "code",
   "execution_count": 32,
   "metadata": {},
   "outputs": [
    {
     "name": "stdout",
     "output_type": "stream",
     "text": [
      "1\n"
     ]
    }
   ],
   "source": [
    "a = 45\n",
    "b = 0\n",
    "if b == 0.0:\n",
    "    # b += 0.00000001\n",
    "    x = 1\n",
    "else:\n",
    "    x = a/b\n",
    "print (x)"
   ]
  },
  {
   "cell_type": "code",
   "execution_count": 34,
   "metadata": {},
   "outputs": [
    {
     "ename": "ValueError",
     "evalue": "provided value - 16asdf - is not a number",
     "output_type": "error",
     "traceback": [
      "\u001b[0;31m---------------------------------------------------------------------------\u001b[0m",
      "\u001b[0;31mValueError\u001b[0m                                Traceback (most recent call last)",
      "\u001b[0;32m/var/folders/wc/k06hmgr52sxcn6sr_stnt9b00000gn/T/ipykernel_1382/1230679392.py\u001b[0m in \u001b[0;36m<module>\u001b[0;34m\u001b[0m\n\u001b[1;32m      6\u001b[0m         \u001b[0;31m# do some handling here to make it a number\u001b[0m\u001b[0;34m\u001b[0m\u001b[0;34m\u001b[0m\u001b[0m\n\u001b[1;32m      7\u001b[0m         \u001b[0;31m# or raise an error\u001b[0m\u001b[0;34m\u001b[0m\u001b[0;34m\u001b[0m\u001b[0m\n\u001b[0;32m----> 8\u001b[0;31m         \u001b[0;32mraise\u001b[0m \u001b[0mValueError\u001b[0m\u001b[0;34m(\u001b[0m\u001b[0;34mf'provided value - {number} - is not a number'\u001b[0m\u001b[0;34m)\u001b[0m\u001b[0;34m\u001b[0m\u001b[0;34m\u001b[0m\u001b[0m\n\u001b[0m\u001b[1;32m      9\u001b[0m \u001b[0mprint\u001b[0m \u001b[0;34m(\u001b[0m\u001b[0mnumber\u001b[0m\u001b[0;34m)\u001b[0m\u001b[0;34m\u001b[0m\u001b[0;34m\u001b[0m\u001b[0m\n",
      "\u001b[0;31mValueError\u001b[0m: provided value - 16asdf - is not a number"
     ]
    }
   ],
   "source": [
    "number = '16asdf'\n",
    "if isinstance(number, str):\n",
    "    if number.isnumeric():\n",
    "        number = int(number) \n",
    "    else:\n",
    "        # do some handling here to make it a number\n",
    "        # or raise an error\n",
    "        raise ValueError(f'provided value - {number} - is not a number')\n",
    "print (number)"
   ]
  }
 ],
 "metadata": {
  "interpreter": {
   "hash": "aee8b7b246df8f9039afb4144a1f6fd8d2ca17a180786b69acc140d282b71a49"
  },
  "kernelspec": {
   "display_name": "Python 3.10.0 64-bit",
   "language": "python",
   "name": "python3"
  },
  "language_info": {
   "codemirror_mode": {
    "name": "ipython",
    "version": 3
   },
   "file_extension": ".py",
   "mimetype": "text/x-python",
   "name": "python",
   "nbconvert_exporter": "python",
   "pygments_lexer": "ipython3",
   "version": "3.10.0"
  },
  "orig_nbformat": 4
 },
 "nbformat": 4,
 "nbformat_minor": 2
}
