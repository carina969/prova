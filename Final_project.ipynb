{
 "cells": [
  {
   "cell_type": "code",
   "execution_count": 147,
   "metadata": {},
   "outputs": [],
   "source": [
    "import pandas as pd\n",
    "from bs4 import BeautifulSoup"
   ]
  },
  {
   "cell_type": "code",
   "execution_count": 173,
   "metadata": {},
   "outputs": [],
   "source": [
    "import requests\n",
    "url='https://www.farfetch.com/lt/shopping/men/trainers-2/items.aspx?view=90&scale=282&designer=2450'\n",
    "response = requests.get(url)"
   ]
  },
  {
   "cell_type": "code",
   "execution_count": 174,
   "metadata": {},
   "outputs": [
    {
     "name": "stdout",
     "output_type": "stream",
     "text": [
      "<title>Men's Designer Trainers 2018 - Farfetch</title>\n"
     ]
    }
   ],
   "source": [
    "from bs4 import BeautifulSoup\n",
    "soup = BeautifulSoup(response.text, 'html.parser')\n",
    "print (soup.title)"
   ]
  },
  {
   "cell_type": "code",
   "execution_count": 183,
   "metadata": {},
   "outputs": [],
   "source": [
    "brand = soup.findAll('ProductCardBrandName')\n",
    "description = soup.findAll('ProductCardDescription')\n",
    "origprice = soup.findAll('PriceOriginal')\n",
    "discount = soup.findAll ('PriceDiscount')\n",
    "sellprice = soup.findAll ('PriceFinal')\n",
    "size = soup.findAll('ProductCardSizes')\n",
    "image = soup.findAll ('ProductCardImagePrimary')"
   ]
  },
  {
   "cell_type": "code",
   "execution_count": 184,
   "metadata": {},
   "outputs": [],
   "source": [
    "brandLoop = [brand.text for brands in brand]\n",
    "descriptionLoop = [description.text for descriptions in description]\n",
    "origpriceLoop = [orig.text for orig in origprice]\n",
    "discountLoop = [discount.text for discounts in discount]\n",
    "sellpriceLoop = [sell.text for sell in sellprice]\n",
    "sizeLoop = [size.text for sizes in size]\n"
   ]
  }
 ],
 "metadata": {
  "interpreter": {
   "hash": "aee8b7b246df8f9039afb4144a1f6fd8d2ca17a180786b69acc140d282b71a49"
  },
  "kernelspec": {
   "display_name": "Python 3.10.0 64-bit",
   "language": "python",
   "name": "python3"
  },
  "language_info": {
   "codemirror_mode": {
    "name": "ipython",
    "version": 3
   },
   "file_extension": ".py",
   "mimetype": "text/x-python",
   "name": "python",
   "nbconvert_exporter": "python",
   "pygments_lexer": "ipython3",
   "version": "3.8.8"
  },
  "orig_nbformat": 4
 },
 "nbformat": 4,
 "nbformat_minor": 2
}
