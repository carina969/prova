{
 "cells": [
  {
   "cell_type": "code",
   "execution_count": 259,
   "metadata": {},
   "outputs": [],
   "source": [
    "import requests\n",
    "url=\"https://www.farfetch.com/lt/shopping/men/trainers-2/items.aspx?view=90&scale=282&designer=2450\"\n",
    "response = requests.get(url)"
   ]
  },
  {
   "cell_type": "code",
   "execution_count": 260,
   "metadata": {},
   "outputs": [
    {
     "name": "stdout",
     "output_type": "stream",
     "text": [
      "<title>Men's Designer Trainers 2018 - Farfetch</title>\n"
     ]
    }
   ],
   "source": [
    "from bs4 import BeautifulSoup\n",
    "soup = BeautifulSoup(response.text, 'html.parser')\n",
    "print (soup.title)"
   ]
  },
  {
   "cell_type": "code",
   "execution_count": 261,
   "metadata": {},
   "outputs": [],
   "source": [
    "import pandas as pd"
   ]
  },
  {
   "cell_type": "code",
   "execution_count": 262,
   "metadata": {},
   "outputs": [],
   "source": [
    "brand = soup.findAll('ProductCardBrandName')\n",
    "description = soup.findAll('ProductCardDescription')\n",
    "origprice = soup.findAll('PriceOriginal')\n",
    "discount = soup.findAll ('PriceDiscount')\n",
    "sellprice = soup.findAll ('PriceFinal')\n",
    "size = soup.findAll('ProductCardSizes')\n",
    "image = soup.findAll ('ProductCardImagePrimary')"
   ]
  },
  {
   "cell_type": "code",
   "execution_count": 263,
   "metadata": {},
   "outputs": [],
   "source": [
    "brandLoop = [brand.text for brands in brand]\n",
    "descriptionLoop = [description.text for descriptions in description]\n",
    "origpriceLoop = [orig.text for orig in origprice]\n",
    "discountLoop = [discount.text for discounts in discount]\n",
    "sellpriceLoop = [sell.text for sell in sellprice]\n",
    "sizeLoop = [size.text for sizes in size]\n"
   ]
  },
  {
   "cell_type": "code",
   "execution_count": 264,
   "metadata": {},
   "outputs": [],
   "source": [
    "data = {\n",
    "    'Brand_Name' : brandLoop,\n",
    "    'Product_Name' : descriptionLoop,\n",
    "    'Original_Price' : origpriceLoop,\n",
    "    'Discount_Percentage' : discountLoop,\n",
    "    'Final_Price_With_Discount' : sellpriceLoop,\n",
    "    'Available_Sizes' : sizeLoop\n",
    "    }"
   ]
  },
  {
   "cell_type": "code",
   "execution_count": 265,
   "metadata": {},
   "outputs": [
    {
     "name": "stdout",
     "output_type": "stream",
     "text": [
      "0\n",
      "0\n",
      "0\n",
      "0\n",
      "0\n",
      "0\n"
     ]
    }
   ],
   "source": [
    "print (len(brandLoop))\n",
    "print (len(descriptionLoop))\n",
    "print (len(origpriceLoop))\n",
    "print (len(discountLoop))\n",
    "print (len(sellpriceLoop))\n",
    "print (len(sizeLoop))"
   ]
  },
  {
   "cell_type": "code",
   "execution_count": 266,
   "metadata": {},
   "outputs": [
    {
     "name": "stdout",
     "output_type": "stream",
     "text": [
      "Empty DataFrame\n",
      "Columns: [Brand_Name, Product_Name, Discount_Percentage, Final_Price_With_Discount, Available_Sizes, Original_Price]\n",
      "Index: []\n"
     ]
    }
   ],
   "source": [
    "df = pd.DataFrame (data, columns = [\n",
    "    'Brand_Name',\n",
    "    'Product_Name',\n",
    "    'Discount_Percentage',\n",
    "    'Final_Price_With_Discount',\n",
    "    'Available_Sizes'\n",
    "    ])\n",
    "\n",
    "df2 = pd.DataFrame(data, columns = ['Original_Price'])\n",
    "\n",
    "OriginalPrice = df2 ['Original_Price']\n",
    "\n",
    "df = df.join(OriginalPrice)\n",
    "\n",
    "print (df)"
   ]
  },
  {
   "cell_type": "code",
   "execution_count": 267,
   "metadata": {},
   "outputs": [
    {
     "data": {
      "text/html": [
       "<div>\n",
       "<style scoped>\n",
       "    .dataframe tbody tr th:only-of-type {\n",
       "        vertical-align: middle;\n",
       "    }\n",
       "\n",
       "    .dataframe tbody tr th {\n",
       "        vertical-align: top;\n",
       "    }\n",
       "\n",
       "    .dataframe thead th {\n",
       "        text-align: right;\n",
       "    }\n",
       "</style>\n",
       "<table border=\"1\" class=\"dataframe\">\n",
       "  <thead>\n",
       "    <tr style=\"text-align: right;\">\n",
       "      <th></th>\n",
       "      <th>Brand_Name</th>\n",
       "      <th>Product_Name</th>\n",
       "      <th>Discount_Percentage</th>\n",
       "      <th>Final_Price_With_Discount</th>\n",
       "      <th>Available_Sizes</th>\n",
       "      <th>Original_Price</th>\n",
       "    </tr>\n",
       "  </thead>\n",
       "  <tbody>\n",
       "  </tbody>\n",
       "</table>\n",
       "</div>"
      ],
      "text/plain": [
       "Empty DataFrame\n",
       "Columns: [Brand_Name, Product_Name, Discount_Percentage, Final_Price_With_Discount, Available_Sizes, Original_Price]\n",
       "Index: []"
      ]
     },
     "execution_count": 267,
     "metadata": {},
     "output_type": "execute_result"
    }
   ],
   "source": [
    "df"
   ]
  },
  {
   "cell_type": "code",
   "execution_count": 268,
   "metadata": {},
   "outputs": [],
   "source": [
    "df.to_csv('Balenciaga_sneakers.csv')"
   ]
  }
 ],
 "metadata": {
  "interpreter": {
   "hash": "aee8b7b246df8f9039afb4144a1f6fd8d2ca17a180786b69acc140d282b71a49"
  },
  "kernelspec": {
   "display_name": "Python 3.10.0 64-bit",
   "language": "python",
   "name": "python3"
  },
  "language_info": {
   "codemirror_mode": {
    "name": "ipython",
    "version": 3
   },
   "file_extension": ".py",
   "mimetype": "text/x-python",
   "name": "python",
   "nbconvert_exporter": "python",
   "pygments_lexer": "ipython3",
   "version": "3.8.8"
  },
  "orig_nbformat": 4
 },
 "nbformat": 4,
 "nbformat_minor": 2
}
