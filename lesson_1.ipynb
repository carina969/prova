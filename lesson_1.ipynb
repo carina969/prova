{
 "cells": [
  {
   "cell_type": "code",
   "execution_count": 291,
   "metadata": {},
   "outputs": [
    {
     "name": "stdout",
     "output_type": "stream",
     "text": [
      "Karina\n"
     ]
    }
   ],
   "source": [
    "my_name = \"Karina\"\n",
    "print (my_name)"
   ]
  },
  {
   "cell_type": "code",
   "execution_count": 292,
   "metadata": {},
   "outputs": [
    {
     "name": "stdout",
     "output_type": "stream",
     "text": [
      "49\n"
     ]
    }
   ],
   "source": [
    "x=6\n",
    "y=43\n",
    "print (x+y)"
   ]
  },
  {
   "cell_type": "markdown",
   "metadata": {},
   "source": []
  },
  {
   "cell_type": "code",
   "execution_count": 293,
   "metadata": {},
   "outputs": [
    {
     "name": "stdout",
     "output_type": "stream",
     "text": [
      "258\n"
     ]
    }
   ],
   "source": [
    "print (x*y)"
   ]
  },
  {
   "cell_type": "code",
   "execution_count": 294,
   "metadata": {},
   "outputs": [],
   "source": [
    "my_name = 'Karina'"
   ]
  },
  {
   "cell_type": "code",
   "execution_count": 295,
   "metadata": {},
   "outputs": [
    {
     "data": {
      "text/plain": [
       "'K'"
      ]
     },
     "execution_count": 295,
     "metadata": {},
     "output_type": "execute_result"
    }
   ],
   "source": [
    "my_name[0]"
   ]
  },
  {
   "cell_type": "code",
   "execution_count": 296,
   "metadata": {},
   "outputs": [
    {
     "data": {
      "text/plain": [
       "'a'"
      ]
     },
     "execution_count": 296,
     "metadata": {},
     "output_type": "execute_result"
    }
   ],
   "source": [
    "my_name[-1]"
   ]
  },
  {
   "cell_type": "code",
   "execution_count": 297,
   "metadata": {},
   "outputs": [],
   "source": [
    "import this"
   ]
  },
  {
   "cell_type": "code",
   "execution_count": 298,
   "metadata": {},
   "outputs": [
    {
     "name": "stdout",
     "output_type": "stream",
     "text": [
      "Karina Arlauskaite\n",
      "KarinaKarinaKarinaKarinaKarinaKarinaKarinaKarinaKarinaKarina\n",
      "Karina\n"
     ]
    }
   ],
   "source": [
    "my_name = 'Karina'\n",
    "my_surname = 'Arlauskaite'\n",
    "print (my_name +' '+my_surname)\n",
    "print (my_name*10)\n",
    "print(my_name)"
   ]
  },
  {
   "cell_type": "code",
   "execution_count": 299,
   "metadata": {},
   "outputs": [
    {
     "name": "stdout",
     "output_type": "stream",
     "text": [
      "My name is Karina Arlauskaite\n",
      "My name is Karina Arlauskaite\n",
      "My name isKarina Arlauskaite\n"
     ]
    }
   ],
   "source": [
    "print( 'My name is',my_name,my_surname)\n",
    "# f-string\n",
    "print ( f'My name is {my_name} {my_surname}')\n",
    "print ('My name is{} {}'.format(my_name, my_surname) )"
   ]
  },
  {
   "cell_type": "code",
   "execution_count": 300,
   "metadata": {},
   "outputs": [
    {
     "name": "stdout",
     "output_type": "stream",
     "text": [
      " learn Phyton!\n",
      " lear\n",
      "n\n",
      "d  mvr jjbjdgggffjlan\n",
      "Hello\n",
      "Hlo\n",
      "!notyhP nrael jnffffgggggsddjdbsjsja yrev ma I ,dlroW olleH\n"
     ]
    }
   ],
   "source": [
    "# slicing\n",
    "sentence = 'Hello World, I am very ajsjsbdjddsgggggffffnj learn Phyton!'\n",
    "sentence [0]\n",
    "print (sentence[45:])\n",
    "print (sentence[45:50])\n",
    "print (sentence[50] )\n",
    "print (sentence[10:51:2])\n",
    "# [start:end:step]\n",
    "print (sentence[0:5])\n",
    "print (sentence[0:5:2])\n",
    "print (sentence[::-1])"
   ]
  },
  {
   "cell_type": "code",
   "execution_count": 301,
   "metadata": {},
   "outputs": [
    {
     "name": "stdout",
     "output_type": "stream",
     "text": [
      ",\n"
     ]
    },
    {
     "data": {
      "text/plain": [
       "'Hello World'"
      ]
     },
     "execution_count": 301,
     "metadata": {},
     "output_type": "execute_result"
    }
   ],
   "source": [
    "sentence.find(',')\n",
    "print (sentence[sentence.find(',')])\n",
    "sentence[:sentence.find(',')]"
   ]
  },
  {
   "cell_type": "code",
   "execution_count": 302,
   "metadata": {},
   "outputs": [
    {
     "data": {
      "text/plain": [
       "4158"
      ]
     },
     "execution_count": 302,
     "metadata": {},
     "output_type": "execute_result"
    }
   ],
   "source": [
    "text_with_numbers = '1,15,35,4158,354'\n",
    "int (text_with_numbers.split(',')[3])"
   ]
  },
  {
   "cell_type": "code",
   "execution_count": 2,
   "metadata": {},
   "outputs": [
    {
     "data": {
      "text/plain": [
       "'Karina Arlauskaite'"
      ]
     },
     "execution_count": 2,
     "metadata": {},
     "output_type": "execute_result"
    }
   ],
   "source": [
    "# name\n",
    "name = 'karina arlauskaite'\n",
    "name.capitalize ()\n",
    "name.casefold\n",
    "name.title()"
   ]
  },
  {
   "cell_type": "code",
   "execution_count": null,
   "metadata": {},
   "outputs": [],
   "source": []
  },
  {
   "cell_type": "code",
   "execution_count": 15,
   "metadata": {},
   "outputs": [
    {
     "name": "stdout",
     "output_type": "stream",
     "text": [
      "Hello world I am very happy to learn phyton\n",
      "Hello world I am sssjdnjdnjdn to learn phyton\n",
      "Hello world I am very happy to learn phyton\n"
     ]
    }
   ],
   "source": [
    "sentence = 'Hello world I am sssjdnjdnjdn to learn phyton'\n",
    "print (sentence.replace('sssjdnjdnjdn','very happy')) #does not rewrite variable\n",
    "print (sentence)\n",
    "sentence = sentence.replace('sssjdnjdnjdn','very happy')\n",
    "print(sentence)\n",
    "\n",
    "\n"
   ]
  },
  {
   "cell_type": "code",
   "execution_count": 35,
   "metadata": {},
   "outputs": [
    {
     "name": "stdout",
     "output_type": "stream",
     "text": [
      "Hello world I am very happy to learn phyton\n",
      "45\n",
      "phyton\n",
      "phyton\n"
     ]
    }
   ],
   "source": [
    "print(sentence)\n",
    "print (len('Hello world I am sssjdnjdnjdn to learn phyton'))\n",
    "print (sentence[len(sentence)-6:])\n",
    "print (sentence[-6:])"
   ]
  },
  {
   "cell_type": "code",
   "execution_count": 39,
   "metadata": {},
   "outputs": [
    {
     "name": "stdout",
     "output_type": "stream",
     "text": [
      "Karina Arlauskaite\n"
     ]
    }
   ],
   "source": [
    "my_name = 'Karina'\n",
    "my_surname = \"Arlauskaite\"\n",
    "print(f'{my_name} {my_surname}')"
   ]
  },
  {
   "cell_type": "code",
   "execution_count": 45,
   "metadata": {},
   "outputs": [
    {
     "name": "stdout",
     "output_type": "stream",
     "text": [
      " PHYTON MAKES ME REALLY REALLY HAPPY\n",
      " PhyTOn makes me really really happy\n",
      " PhyTOn makes me really really happy\n"
     ]
    }
   ],
   "source": [
    "my_string = ' Phyton makes me really really happy'\n",
    "print(my_string.upper())\n",
    "print(my_string.replace('t','T').replace('o','O'))# replaces all t and o\n",
    "print(my_string.replace('Phyton','PhyTOn'))"
   ]
  },
  {
   "cell_type": "code",
   "execution_count": 56,
   "metadata": {},
   "outputs": [
    {
     "name": "stdout",
     "output_type": "stream",
     "text": [
      "18\n",
      "happy\n",
      "happy\n",
      "43\n"
     ]
    }
   ],
   "source": [
    "my_sentence = 'Hello World, I am happy to learn Phyton!'\n",
    "word_to_find = 'happy'\n",
    "print(my_sentence.index(word_to_find))\n",
    "\n",
    "print(my_sentence[my_sentence.index(word_to_find):23])\n",
    "print(my_sentence[my_sentence.index(word_to_find):my_sentence.index(word_to_find)+len(word_to_find)])\n",
    "print(len(sentence))"
   ]
  }
 ],
 "metadata": {
  "interpreter": {
   "hash": "40d3a090f54c6569ab1632332b64b2c03c39dcf918b08424e98f38b5ae0af88f"
  },
  "kernelspec": {
   "display_name": "Python 3.8.8 64-bit ('base': conda)",
   "language": "python",
   "name": "python3"
  },
  "language_info": {
   "codemirror_mode": {
    "name": "ipython",
    "version": 3
   },
   "file_extension": ".py",
   "mimetype": "text/x-python",
   "name": "python",
   "nbconvert_exporter": "python",
   "pygments_lexer": "ipython3",
   "version": "3.8.9"
  },
  "orig_nbformat": 4
 },
 "nbformat": 4,
 "nbformat_minor": 2
}
