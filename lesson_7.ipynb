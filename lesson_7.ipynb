{
 "cells": [
  {
   "cell_type": "markdown",
   "metadata": {},
   "source": [
    "# Homework 3"
   ]
  },
  {
   "cell_type": "markdown",
   "metadata": {},
   "source": [
    "1. From the first 100 numbers, if the number is divisible by 2 without a residue, print ‘Fizz’, if the number is divisible by 3 without a residue, print ‘Buzz’, if the number is divisible by 2 **and** 3 without a residue, print ‘FizzBuzz’"
   ]
  },
  {
   "cell_type": "code",
   "execution_count": 2,
   "metadata": {},
   "outputs": [
    {
     "name": "stdout",
     "output_type": "stream",
     "text": [
      "Number 2 is: Fizz\n",
      "Number 3 is: Buzz\n",
      "Number 4 is: Fizz\n",
      "Number 6 is: FizzBuzz\n",
      "Number 8 is: Fizz\n",
      "Number 9 is: Buzz\n",
      "Number 10 is: Fizz\n",
      "Number 12 is: FizzBuzz\n",
      "Number 14 is: Fizz\n",
      "Number 15 is: Buzz\n",
      "Number 16 is: Fizz\n",
      "Number 18 is: FizzBuzz\n",
      "Number 20 is: Fizz\n",
      "Number 21 is: Buzz\n",
      "Number 22 is: Fizz\n",
      "Number 24 is: FizzBuzz\n",
      "Number 26 is: Fizz\n",
      "Number 27 is: Buzz\n",
      "Number 28 is: Fizz\n",
      "Number 30 is: FizzBuzz\n",
      "Number 32 is: Fizz\n",
      "Number 33 is: Buzz\n",
      "Number 34 is: Fizz\n",
      "Number 36 is: FizzBuzz\n",
      "Number 38 is: Fizz\n",
      "Number 39 is: Buzz\n",
      "Number 40 is: Fizz\n",
      "Number 42 is: FizzBuzz\n",
      "Number 44 is: Fizz\n",
      "Number 45 is: Buzz\n",
      "Number 46 is: Fizz\n",
      "Number 48 is: FizzBuzz\n",
      "Number 50 is: Fizz\n",
      "Number 51 is: Buzz\n",
      "Number 52 is: Fizz\n",
      "Number 54 is: FizzBuzz\n",
      "Number 56 is: Fizz\n",
      "Number 57 is: Buzz\n",
      "Number 58 is: Fizz\n",
      "Number 60 is: FizzBuzz\n",
      "Number 62 is: Fizz\n",
      "Number 63 is: Buzz\n",
      "Number 64 is: Fizz\n",
      "Number 66 is: FizzBuzz\n",
      "Number 68 is: Fizz\n",
      "Number 69 is: Buzz\n",
      "Number 70 is: Fizz\n",
      "Number 72 is: FizzBuzz\n",
      "Number 74 is: Fizz\n",
      "Number 75 is: Buzz\n",
      "Number 76 is: Fizz\n",
      "Number 78 is: FizzBuzz\n",
      "Number 80 is: Fizz\n",
      "Number 81 is: Buzz\n",
      "Number 82 is: Fizz\n",
      "Number 84 is: FizzBuzz\n",
      "Number 86 is: Fizz\n",
      "Number 87 is: Buzz\n",
      "Number 88 is: Fizz\n",
      "Number 90 is: FizzBuzz\n",
      "Number 92 is: Fizz\n",
      "Number 93 is: Buzz\n",
      "Number 94 is: Fizz\n",
      "Number 96 is: FizzBuzz\n",
      "Number 98 is: Fizz\n",
      "Number 99 is: Buzz\n",
      "Number 100 is: Fizz\n"
     ]
    }
   ],
   "source": [
    "for number in range(1,101):\n",
    "    if number % 2 == 0 and number % 3 == 0:\n",
    "        print (f'Number {number} is: FizzBuzz')\n",
    "    elif number % 2 == 0:\n",
    "        print(f\"Number {number} is: Fizz\")\n",
    "    elif number % 3 == 0:\n",
    "        print(f\"Number {number} is: Buzz\")"
   ]
  },
  {
   "cell_type": "code",
   "execution_count": 3,
   "metadata": {},
   "outputs": [
    {
     "name": "stdout",
     "output_type": "stream",
     "text": [
      "Number 1 is: \n",
      "Number 2 is: Fizz\n",
      "Number 3 is: Buzz\n",
      "Number 4 is: Fizz\n",
      "Number 5 is: \n",
      "Number 6 is: FizzBuzz\n",
      "Number 7 is: \n",
      "Number 8 is: Fizz\n",
      "Number 9 is: Buzz\n",
      "Number 10 is: Fizz\n",
      "Number 11 is: \n",
      "Number 12 is: FizzBuzz\n",
      "Number 13 is: \n",
      "Number 14 is: Fizz\n",
      "Number 15 is: Buzz\n",
      "Number 16 is: Fizz\n",
      "Number 17 is: \n",
      "Number 18 is: FizzBuzz\n",
      "Number 19 is: \n",
      "Number 20 is: Fizz\n",
      "Number 21 is: Buzz\n",
      "Number 22 is: Fizz\n",
      "Number 23 is: \n",
      "Number 24 is: FizzBuzz\n",
      "Number 25 is: \n",
      "Number 26 is: Fizz\n",
      "Number 27 is: Buzz\n",
      "Number 28 is: Fizz\n",
      "Number 29 is: \n",
      "Number 30 is: FizzBuzz\n",
      "Number 31 is: \n",
      "Number 32 is: Fizz\n",
      "Number 33 is: Buzz\n",
      "Number 34 is: Fizz\n",
      "Number 35 is: \n",
      "Number 36 is: FizzBuzz\n",
      "Number 37 is: \n",
      "Number 38 is: Fizz\n",
      "Number 39 is: Buzz\n",
      "Number 40 is: Fizz\n",
      "Number 41 is: \n",
      "Number 42 is: FizzBuzz\n",
      "Number 43 is: \n",
      "Number 44 is: Fizz\n",
      "Number 45 is: Buzz\n",
      "Number 46 is: Fizz\n",
      "Number 47 is: \n",
      "Number 48 is: FizzBuzz\n",
      "Number 49 is: \n",
      "Number 50 is: Fizz\n",
      "Number 51 is: Buzz\n",
      "Number 52 is: Fizz\n",
      "Number 53 is: \n",
      "Number 54 is: FizzBuzz\n",
      "Number 55 is: \n",
      "Number 56 is: Fizz\n",
      "Number 57 is: Buzz\n",
      "Number 58 is: Fizz\n",
      "Number 59 is: \n",
      "Number 60 is: FizzBuzz\n",
      "Number 61 is: \n",
      "Number 62 is: Fizz\n",
      "Number 63 is: Buzz\n",
      "Number 64 is: Fizz\n",
      "Number 65 is: \n",
      "Number 66 is: FizzBuzz\n",
      "Number 67 is: \n",
      "Number 68 is: Fizz\n",
      "Number 69 is: Buzz\n",
      "Number 70 is: Fizz\n",
      "Number 71 is: \n",
      "Number 72 is: FizzBuzz\n",
      "Number 73 is: \n",
      "Number 74 is: Fizz\n",
      "Number 75 is: Buzz\n",
      "Number 76 is: Fizz\n",
      "Number 77 is: \n",
      "Number 78 is: FizzBuzz\n",
      "Number 79 is: \n",
      "Number 80 is: Fizz\n",
      "Number 81 is: Buzz\n",
      "Number 82 is: Fizz\n",
      "Number 83 is: \n",
      "Number 84 is: FizzBuzz\n",
      "Number 85 is: \n",
      "Number 86 is: Fizz\n",
      "Number 87 is: Buzz\n",
      "Number 88 is: Fizz\n",
      "Number 89 is: \n",
      "Number 90 is: FizzBuzz\n",
      "Number 91 is: \n",
      "Number 92 is: Fizz\n",
      "Number 93 is: Buzz\n",
      "Number 94 is: Fizz\n",
      "Number 95 is: \n",
      "Number 96 is: FizzBuzz\n",
      "Number 97 is: \n",
      "Number 98 is: Fizz\n",
      "Number 99 is: Buzz\n",
      "Number 100 is: Fizz\n"
     ]
    }
   ],
   "source": [
    "\n",
    "for number in range(1,101):\n",
    "    print_string = ''\n",
    "    if number % 2 == 0:\n",
    "        print_string += 'Fizz'\n",
    "    if number % 3 == 0:\n",
    "        print_string += 'Buzz'\n",
    "    print (f\"Number {number} is: {print_string}\")"
   ]
  },
  {
   "cell_type": "markdown",
   "metadata": {},
   "source": [
    "2. Let's choose a number (input()), if the number entered is greater than or equal to 10, print all numbers (from 1 to that number) that divide by 5 with the a remainder. Otherwise do nothing"
   ]
  },
  {
   "cell_type": "code",
   "execution_count": 7,
   "metadata": {},
   "outputs": [
    {
     "name": "stdout",
     "output_type": "stream",
     "text": [
      "This number has a remainder when divided by 5 : 1\n",
      "This number has a remainder when divided by 5 : 2\n",
      "This number has a remainder when divided by 5 : 3\n",
      "This number has a remainder when divided by 5 : 4\n",
      "This number has a remainder when divided by 5 : 6\n",
      "This number has a remainder when divided by 5 : 7\n",
      "This number has a remainder when divided by 5 : 8\n",
      "This number has a remainder when divided by 5 : 9\n",
      "This number has a remainder when divided by 5 : 11\n",
      "This number has a remainder when divided by 5 : 12\n",
      "This number has a remainder when divided by 5 : 13\n",
      "This number has a remainder when divided by 5 : 14\n"
     ]
    }
   ],
   "source": [
    "user_number = int( input(\"Please enter a digit\") )\n",
    "if user_number >= 10:\n",
    "    for number in range(1, user_number + 1 ):\n",
    "        if number % 5 != 0:\n",
    "                print(f'This number has a remainder when divided by 5 : {number}')\n",
    "else:\n",
    "    print ('number is lower than 10')"
   ]
  },
  {
   "cell_type": "markdown",
   "metadata": {},
   "source": [
    "3. What is the length of a list made up of combinations of lists provided if we want to find all possible values? Sort the list from highest to lowest."
   ]
  },
  {
   "cell_type": "code",
   "execution_count": 8,
   "metadata": {},
   "outputs": [
    {
     "name": "stdout",
     "output_type": "stream",
     "text": [
      "[('1', 'hi', 100), ('1', 'hi', 200), ('1', 'hi', 40), ('1', 'hi', 10), ('1', 'evening', 100), ('1', 'evening', 200), ('1', 'evening', 40), ('1', 'evening', 10), ('1', 'what a beautiful day', 100), ('1', 'what a beautiful day', 200), ('1', 'what a beautiful day', 40), ('1', 'what a beautiful day', 10), ('1', 'weather', 100), ('1', 'weather', 200), ('1', 'weather', 40), ('1', 'weather', 10), ('1', '10 degrees outside', 100), ('1', '10 degrees outside', 200), ('1', '10 degrees outside', 40), ('1', '10 degrees outside', 10), ('2', 'hi', 100), ('2', 'hi', 200), ('2', 'hi', 40), ('2', 'hi', 10), ('2', 'evening', 100), ('2', 'evening', 200), ('2', 'evening', 40), ('2', 'evening', 10), ('2', 'what a beautiful day', 100), ('2', 'what a beautiful day', 200), ('2', 'what a beautiful day', 40), ('2', 'what a beautiful day', 10), ('2', 'weather', 100), ('2', 'weather', 200), ('2', 'weather', 40), ('2', 'weather', 10), ('2', '10 degrees outside', 100), ('2', '10 degrees outside', 200), ('2', '10 degrees outside', 40), ('2', '10 degrees outside', 10), ('3', 'hi', 100), ('3', 'hi', 200), ('3', 'hi', 40), ('3', 'hi', 10), ('3', 'evening', 100), ('3', 'evening', 200), ('3', 'evening', 40), ('3', 'evening', 10), ('3', 'what a beautiful day', 100), ('3', 'what a beautiful day', 200), ('3', 'what a beautiful day', 40), ('3', 'what a beautiful day', 10), ('3', 'weather', 100), ('3', 'weather', 200), ('3', 'weather', 40), ('3', 'weather', 10), ('3', '10 degrees outside', 100), ('3', '10 degrees outside', 200), ('3', '10 degrees outside', 40), ('3', '10 degrees outside', 10), ('4', 'hi', 100), ('4', 'hi', 200), ('4', 'hi', 40), ('4', 'hi', 10), ('4', 'evening', 100), ('4', 'evening', 200), ('4', 'evening', 40), ('4', 'evening', 10), ('4', 'what a beautiful day', 100), ('4', 'what a beautiful day', 200), ('4', 'what a beautiful day', 40), ('4', 'what a beautiful day', 10), ('4', 'weather', 100), ('4', 'weather', 200), ('4', 'weather', 40), ('4', 'weather', 10), ('4', '10 degrees outside', 100), ('4', '10 degrees outside', 200), ('4', '10 degrees outside', 40), ('4', '10 degrees outside', 10), ('5', 'hi', 100), ('5', 'hi', 200), ('5', 'hi', 40), ('5', 'hi', 10), ('5', 'evening', 100), ('5', 'evening', 200), ('5', 'evening', 40), ('5', 'evening', 10), ('5', 'what a beautiful day', 100), ('5', 'what a beautiful day', 200), ('5', 'what a beautiful day', 40), ('5', 'what a beautiful day', 10), ('5', 'weather', 100), ('5', 'weather', 200), ('5', 'weather', 40), ('5', 'weather', 10), ('5', '10 degrees outside', 100), ('5', '10 degrees outside', 200), ('5', '10 degrees outside', 40), ('5', '10 degrees outside', 10)]\n",
      "\n",
      "[('1', 'what a beautiful day', 100), ('1', 'what a beautiful day', 200), ('1', 'what a beautiful day', 40), ('1', 'what a beautiful day', 10), ('2', 'what a beautiful day', 100), ('2', 'what a beautiful day', 200), ('2', 'what a beautiful day', 40), ('2', 'what a beautiful day', 10), ('3', 'what a beautiful day', 100), ('3', 'what a beautiful day', 200), ('3', 'what a beautiful day', 40), ('3', 'what a beautiful day', 10), ('4', 'what a beautiful day', 100), ('4', 'what a beautiful day', 200), ('4', 'what a beautiful day', 40), ('4', 'what a beautiful day', 10), ('5', 'what a beautiful day', 100), ('5', 'what a beautiful day', 200), ('5', 'what a beautiful day', 40), ('5', 'what a beautiful day', 10), ('1', '10 degrees outside', 100), ('1', '10 degrees outside', 200), ('1', '10 degrees outside', 40), ('1', '10 degrees outside', 10), ('2', '10 degrees outside', 100), ('2', '10 degrees outside', 200), ('2', '10 degrees outside', 40), ('2', '10 degrees outside', 10), ('3', '10 degrees outside', 100), ('3', '10 degrees outside', 200), ('3', '10 degrees outside', 40), ('3', '10 degrees outside', 10), ('4', '10 degrees outside', 100), ('4', '10 degrees outside', 200), ('4', '10 degrees outside', 40), ('4', '10 degrees outside', 10), ('5', '10 degrees outside', 100), ('5', '10 degrees outside', 200), ('5', '10 degrees outside', 40), ('5', '10 degrees outside', 10), ('1', 'evening', 100), ('1', 'evening', 200), ('1', 'evening', 40), ('1', 'evening', 10), ('1', 'weather', 100), ('1', 'weather', 200), ('1', 'weather', 40), ('1', 'weather', 10), ('2', 'evening', 100), ('2', 'evening', 200), ('2', 'evening', 40), ('2', 'evening', 10), ('2', 'weather', 100), ('2', 'weather', 200), ('2', 'weather', 40), ('2', 'weather', 10), ('3', 'evening', 100), ('3', 'evening', 200), ('3', 'evening', 40), ('3', 'evening', 10), ('3', 'weather', 100), ('3', 'weather', 200), ('3', 'weather', 40), ('3', 'weather', 10), ('4', 'evening', 100), ('4', 'evening', 200), ('4', 'evening', 40), ('4', 'evening', 10), ('4', 'weather', 100), ('4', 'weather', 200), ('4', 'weather', 40), ('4', 'weather', 10), ('5', 'evening', 100), ('5', 'evening', 200), ('5', 'evening', 40), ('5', 'evening', 10), ('5', 'weather', 100), ('5', 'weather', 200), ('5', 'weather', 40), ('5', 'weather', 10), ('1', 'hi', 100), ('1', 'hi', 200), ('1', 'hi', 40), ('1', 'hi', 10), ('2', 'hi', 100), ('2', 'hi', 200), ('2', 'hi', 40), ('2', 'hi', 10), ('3', 'hi', 100), ('3', 'hi', 200), ('3', 'hi', 40), ('3', 'hi', 10), ('4', 'hi', 100), ('4', 'hi', 200), ('4', 'hi', 40), ('4', 'hi', 10), ('5', 'hi', 100), ('5', 'hi', 200), ('5', 'hi', 40), ('5', 'hi', 10)]\n"
     ]
    }
   ],
   "source": [
    "a = ['1','2','3','4','5']\n",
    "b = ['hi', 'evening', 'what a beautiful day', 'weather', '10 degrees outside']\n",
    "c = ['100', '200', 40, 10]\n",
    "\n",
    "combinations = []\n",
    "for value_1 in a:\n",
    "    for value_2 in b:\n",
    "        for value_3 in c:\n",
    "            combinations.append( (value_1, value_2, int(value_3) ) )\n",
    "        # print(value_2 )\n",
    "    # print(value_1 )\n",
    "\n",
    "print( combinations)\n",
    "# combinations.sort( key=lambda x: x[2] )\n",
    "combinations.sort( key=lambda x: len(x[1]), reverse=True )\n",
    "# combinations.sort( key=len)\n",
    "print ()\n",
    "print( combinations)"
   ]
  },
  {
   "cell_type": "code",
   "execution_count": 9,
   "metadata": {},
   "outputs": [
    {
     "name": "stdout",
     "output_type": "stream",
     "text": [
      "[(1, 10, 'hi'), (1, 10, 'evening'), (1, 10, 'what a beautiful day'), (1, 10, 'weather'), (1, 10, '10 degrees outside'), (2, 10, 'hi'), (2, 10, 'evening'), (2, 10, 'what a beautiful day'), (2, 10, 'weather'), (2, 10, '10 degrees outside'), (3, 10, 'hi'), (3, 10, 'evening'), (3, 10, 'what a beautiful day'), (3, 10, 'weather'), (3, 10, '10 degrees outside'), (4, 10, 'hi'), (4, 10, 'evening'), (4, 10, 'what a beautiful day'), (4, 10, 'weather'), (4, 10, '10 degrees outside'), (5, 10, 'hi'), (5, 10, 'evening'), (5, 10, 'what a beautiful day'), (5, 10, 'weather'), (5, 10, '10 degrees outside'), (1, 40, 'hi'), (1, 40, 'evening'), (1, 40, 'what a beautiful day'), (1, 40, 'weather'), (1, 40, '10 degrees outside'), (2, 40, 'hi'), (2, 40, 'evening'), (2, 40, 'what a beautiful day'), (2, 40, 'weather'), (2, 40, '10 degrees outside'), (3, 40, 'hi'), (3, 40, 'evening'), (3, 40, 'what a beautiful day'), (3, 40, 'weather'), (3, 40, '10 degrees outside'), (4, 40, 'hi'), (4, 40, 'evening'), (4, 40, 'what a beautiful day'), (4, 40, 'weather'), (4, 40, '10 degrees outside'), (5, 40, 'hi'), (5, 40, 'evening'), (5, 40, 'what a beautiful day'), (5, 40, 'weather'), (5, 40, '10 degrees outside'), (1, 100, 'hi'), (1, 100, 'evening'), (1, 100, 'what a beautiful day'), (1, 100, 'weather'), (1, 100, '10 degrees outside'), (2, 100, 'hi'), (2, 100, 'evening'), (2, 100, 'what a beautiful day'), (2, 100, 'weather'), (2, 100, '10 degrees outside'), (3, 100, 'hi'), (3, 100, 'evening'), (3, 100, 'what a beautiful day'), (3, 100, 'weather'), (3, 100, '10 degrees outside'), (4, 100, 'hi'), (4, 100, 'evening'), (4, 100, 'what a beautiful day'), (4, 100, 'weather'), (4, 100, '10 degrees outside'), (5, 100, 'hi'), (5, 100, 'evening'), (5, 100, 'what a beautiful day'), (5, 100, 'weather'), (5, 100, '10 degrees outside'), (1, 200, 'hi'), (1, 200, 'evening'), (1, 200, 'what a beautiful day'), (1, 200, 'weather'), (1, 200, '10 degrees outside'), (2, 200, 'hi'), (2, 200, 'evening'), (2, 200, 'what a beautiful day'), (2, 200, 'weather'), (2, 200, '10 degrees outside'), (3, 200, 'hi'), (3, 200, 'evening'), (3, 200, 'what a beautiful day'), (3, 200, 'weather'), (3, 200, '10 degrees outside'), (4, 200, 'hi'), (4, 200, 'evening'), (4, 200, 'what a beautiful day'), (4, 200, 'weather'), (4, 200, '10 degrees outside'), (5, 200, 'hi'), (5, 200, 'evening'), (5, 200, 'what a beautiful day'), (5, 200, 'weather'), (5, 200, '10 degrees outside')]\n"
     ]
    }
   ],
   "source": [
    "combinations2=[(int(ls1),int(ls2), ls3) for ls1 in a for ls2 in c for ls3 in b]\n",
    "#print(combinations2)\n",
    "\n",
    "combinations2.sort(key=lambda x:x[1])\n",
    "print (combinations2)"
   ]
  },
  {
   "cell_type": "markdown",
   "metadata": {},
   "source": [
    "# Homework4"
   ]
  },
  {
   "cell_type": "markdown",
   "metadata": {},
   "source": [
    "1. Let's enter 10 words, the program will answer such questions:\n",
    "* How many words are longer than 10 characters\n",
    "* Which word is the longest and shortest\n",
    "* Is even one-word palindrome, if so, what or what are those words"
   ]
  },
  {
   "cell_type": "code",
   "execution_count": 10,
   "metadata": {},
   "outputs": [
    {
     "name": "stdout",
     "output_type": "stream",
     "text": [
      "long words: ['simplification', 'extravagant']\n",
      "polidromes: ['bob']\n",
      "shortest words: ['Sky', 'bob']\n",
      "shortest word: Sky, longest word is: simplification\n",
      "['Sky', 'bob', 'Hello', 'school', 'weather', 'december', 'lithuania', 'christmas', 'extravagant', 'simplification']\n",
      "shortest word: Sky, longest word is: simplification\n"
     ]
    }
   ],
   "source": [
    "# input_string = input(\"Enter a list of random 10 words separated by space\")\n",
    "# Words  = input_string.split()\n",
    "\n",
    "words = ['Hello','Sky','weather','school','lithuania','december','christmas','simplification','extravagant','bob']\n",
    "long_words = []\n",
    "polidromes = []\n",
    "\n",
    "shortest_word = len (min(words, key=len) )\n",
    "shortest_words = []\n",
    "for word in words:\n",
    "    if len(word) > 10:\n",
    "        long_words.append(word)\n",
    "    if word.lower() == word.lower()[::-1]:\n",
    "        polidromes.append(word)\n",
    "    if len(word) == shortest_word:\n",
    "        shortest_words.append(word)\n",
    "\n",
    "print (f'long words: {long_words}')\n",
    "print (f'polidromes: {polidromes}')\n",
    "print (f'shortest words: {shortest_words}')\n",
    "\n",
    "print (f'shortest word: {min(words, key=len)}, longest word is: {max(words, key=len)}')\n",
    "\n",
    "sorted_words = sorted(words, key=len)\n",
    "print (sorted_words)\n",
    "print (f'shortest word: {sorted_words[0]}, longest word is: {sorted_words[-1]}')\n"
   ]
  },
  {
   "cell_type": "markdown",
   "metadata": {},
   "source": [
    "2. With a list, get the largest product of nearby numbers."
   ]
  },
  {
   "cell_type": "code",
   "execution_count": 11,
   "metadata": {},
   "outputs": [
    {
     "name": "stdout",
     "output_type": "stream",
     "text": [
      "0\n",
      "1\n",
      "2\n",
      "3\n",
      "4\n",
      "largest product is 21\n"
     ]
    }
   ],
   "source": [
    "my_list = [3, 6, -2, -5, 7, 3]\n",
    "\n",
    "max_prod = None\n",
    "# max_prod = my_list[0] * my_list[1]\n",
    "# for idx in range(1, len(my_list) ):\n",
    "for idx in range(len(my_list) - 1):\n",
    "    print(idx)\n",
    "    # my_list[idx] * my_list[ idx + 1 ]\n",
    "    if max_prod is None or my_list[idx] * my_list[ idx + 1 ] > max_prod:\n",
    "        max_prod = my_list[idx] * my_list[ idx + 1 ]\n",
    "\n",
    "print (f'largest product is {max_prod}')\n"
   ]
  },
  {
   "cell_type": "code",
   "execution_count": 12,
   "metadata": {},
   "outputs": [
    {
     "name": "stdout",
     "output_type": "stream",
     "text": [
      "1\n",
      "2\n",
      "3\n",
      "4\n",
      "largest product is 21\n"
     ]
    }
   ],
   "source": [
    "my_list = [3, 6, -2, -5, 7, 3]\n",
    "\n",
    "max_prod = my_list[0] * my_list[1]\n",
    "# for idx in range(1, len(my_list) ):\n",
    "for idx in range( 1,len(my_list) - 1):\n",
    "    print(idx)\n",
    "    # my_list[idx] * my_list[ idx + 1 ]\n",
    "    if max_prod is None or my_list[idx] * my_list[ idx + 1 ] > max_prod:\n",
    "        max_prod = my_list[idx] * my_list[ idx + 1 ]\n",
    "\n",
    "print (f'largest product is {max_prod}')"
   ]
  },
  {
   "cell_type": "code",
   "execution_count": 13,
   "metadata": {},
   "outputs": [
    {
     "name": "stdout",
     "output_type": "stream",
     "text": [
      "left: 3, right: 6\n",
      "left: 6, right: -2\n",
      "left: -2, right: -5\n",
      "left: -5, right: 7\n",
      "left: 7, right: 3\n",
      "largest product is 21\n"
     ]
    }
   ],
   "source": [
    "max_prod = None\n",
    "\n",
    "# for number_l, number_r in zip( [1,2,3], [10,11,12] ):\n",
    "#     print (f'left: {number_l}, right: {number_r}')\n",
    "my_list = [3, 6, -2, -5, 7, 3]\n",
    "for number_l, number_r in zip( my_list[:-1], my_list[1:] ):\n",
    "    print (f'left: {number_l}, right: {number_r}')\n",
    "    if max_prod is None or number_l * number_r > max_prod:\n",
    "        max_prod = number_l * number_r\n",
    "\n",
    "print (f'largest product is {max_prod}')"
   ]
  },
  {
   "cell_type": "markdown",
   "metadata": {},
   "source": [
    "3. Find duplicate items between two lists."
   ]
  },
  {
   "cell_type": "code",
   "execution_count": 14,
   "metadata": {},
   "outputs": [
    {
     "name": "stdout",
     "output_type": "stream",
     "text": [
      "duplicate values are: {8, 9, 3, 15}\n"
     ]
    }
   ],
   "source": [
    "a = [1,2,3,4,5,6,7,8,9,15]\n",
    "b = [3,8,9,11,15]\n",
    "\n",
    "set_a = set(a)\n",
    "set_b = set(b)\n",
    "print (f'duplicate values are: {set_a.intersection(set_b)}')"
   ]
  },
  {
   "cell_type": "markdown",
   "metadata": {},
   "source": [
    "4.  Filter out unique positive numbers from the list."
   ]
  },
  {
   "cell_type": "code",
   "execution_count": 15,
   "metadata": {},
   "outputs": [
    {
     "name": "stdout",
     "output_type": "stream",
     "text": [
      "positive numbers: [800, 1, 2, 900, 5, 8, 10, 12, 14]\n",
      "[800, 1, 2, 900, 5, 8, 10, 12, 14]\n"
     ]
    }
   ],
   "source": [
    "x = [1, 5, 1, 2, 8, -9, 10, 1, -8, -900, 14, 5, -8, 2, 1, -20, 900, 800, -6, -8, 12, 1]  \n",
    "set_x = set(x)\n",
    "positive_numbers = []\n",
    "for number in set_x:\n",
    "    if number > 0:\n",
    "        positive_numbers.append(number)\n",
    "print(f\"positive numbers: {positive_numbers}\")\n",
    "\n",
    "print ( list( filter( lambda y: y>0 ,set_x) ) )"
   ]
  },
  {
   "cell_type": "markdown",
   "metadata": {},
   "source": [
    "5. Calculate the profit on the sale of all goods. Price and quantity information is provided as a dictionary, the answer rounded to 2 decimal places (use round() function)"
   ]
  },
  {
   "cell_type": "code",
   "execution_count": 16,
   "metadata": {},
   "outputs": [
    {
     "name": "stdout",
     "output_type": "stream",
     "text": [
      "14832.0\n"
     ]
    }
   ],
   "source": [
    "x = { \"cost_price\": 32.67, \n",
    "        \"sell_price\": 45.03,      \n",
    "        \"inventory\": 1200  }\n",
    "        \n",
    "revenue = x[\"sell_price\"] * x[\"inventory\"]\n",
    "cost = x[\"cost_price\"] * x[\"inventory\"]\n",
    "profit = round(revenue - cost,2)\n",
    "print (profit)"
   ]
  },
  {
   "cell_type": "markdown",
   "metadata": {},
   "source": [
    "# Functions"
   ]
  },
  {
   "cell_type": "code",
   "execution_count": 17,
   "metadata": {},
   "outputs": [],
   "source": [
    "def hello():\n",
    "    print ('this function says hello')\n",
    "    print (\"Hello World!\")"
   ]
  },
  {
   "cell_type": "code",
   "execution_count": 18,
   "metadata": {},
   "outputs": [
    {
     "name": "stdout",
     "output_type": "stream",
     "text": [
      "this function says hello\n",
      "Hello World!\n",
      "this function says hello\n",
      "Hello World!\n",
      "this function says hello\n",
      "Hello World!\n",
      "this function says hello\n",
      "Hello World!\n"
     ]
    }
   ],
   "source": [
    "hello()\n",
    "hello()\n",
    "hello()\n",
    "hello()"
   ]
  },
  {
   "cell_type": "code",
   "execution_count": 19,
   "metadata": {},
   "outputs": [],
   "source": [
    "def hello_2(name):\n",
    "    print(f'Hello {name}')"
   ]
  },
  {
   "cell_type": "code",
   "execution_count": 20,
   "metadata": {},
   "outputs": [
    {
     "name": "stdout",
     "output_type": "stream",
     "text": [
      "Hello Darius\n",
      "Hello Tomas\n",
      "Hello Gabriele\n"
     ]
    }
   ],
   "source": [
    "hello_2('Darius')\n",
    "hello_2('Tomas')\n",
    "hello_2('Gabriele')"
   ]
  },
  {
   "cell_type": "code",
   "execution_count": 21,
   "metadata": {},
   "outputs": [
    {
     "ename": "TypeError",
     "evalue": "hello_2() missing 1 required positional argument: 'name'",
     "output_type": "error",
     "traceback": [
      "\u001b[0;31m---------------------------------------------------------------------------\u001b[0m",
      "\u001b[0;31mTypeError\u001b[0m                                 Traceback (most recent call last)",
      "\u001b[0;32m/var/folders/wc/k06hmgr52sxcn6sr_stnt9b00000gn/T/ipykernel_14661/4127435893.py\u001b[0m in \u001b[0;36m<module>\u001b[0;34m\u001b[0m\n\u001b[0;32m----> 1\u001b[0;31m \u001b[0mhello_2\u001b[0m\u001b[0;34m(\u001b[0m\u001b[0;34m)\u001b[0m\u001b[0;34m\u001b[0m\u001b[0;34m\u001b[0m\u001b[0m\n\u001b[0m",
      "\u001b[0;31mTypeError\u001b[0m: hello_2() missing 1 required positional argument: 'name'"
     ]
    }
   ],
   "source": [
    "hello_2()"
   ]
  },
  {
   "cell_type": "code",
   "execution_count": 22,
   "metadata": {},
   "outputs": [],
   "source": [
    "def hello_3(name, city='Vilnius'):\n",
    "    print(f'Hello {name} from {city}')"
   ]
  },
  {
   "cell_type": "code",
   "execution_count": 23,
   "metadata": {},
   "outputs": [
    {
     "ename": "SyntaxError",
     "evalue": "non-default argument follows default argument (1075527830.py, line 1)",
     "output_type": "error",
     "traceback": [
      "\u001b[0;36m  File \u001b[0;32m\"/var/folders/wc/k06hmgr52sxcn6sr_stnt9b00000gn/T/ipykernel_14661/1075527830.py\"\u001b[0;36m, line \u001b[0;32m1\u001b[0m\n\u001b[0;31m    def hello_3( city='Vilnius', name):\u001b[0m\n\u001b[0m                                 ^\u001b[0m\n\u001b[0;31mSyntaxError\u001b[0m\u001b[0;31m:\u001b[0m non-default argument follows default argument\n"
     ]
    }
   ],
   "source": [
    "def hello_3( city='Vilnius', name):\n",
    "    print(f'Hello {name} from {city}')"
   ]
  },
  {
   "cell_type": "code",
   "execution_count": 24,
   "metadata": {},
   "outputs": [
    {
     "name": "stdout",
     "output_type": "stream",
     "text": [
      "Hello Darius from Vilnius\n",
      "Hello Tomas from Kaunas\n",
      "Hello Kaunas from Tomas\n",
      "Hello Tomas from Kaunas\n",
      "Hello Tomas from Kaunas\n"
     ]
    }
   ],
   "source": [
    "hello_3('Darius')\n",
    "hello_3('Tomas', 'Kaunas')\n",
    "hello_3('Kaunas', 'Tomas') # not correct\n",
    "hello_3(name='Tomas', city='Kaunas')\n",
    "hello_3(city='Kaunas', name='Tomas')"
   ]
  },
  {
   "cell_type": "code",
   "execution_count": 25,
   "metadata": {},
   "outputs": [],
   "source": [
    "def hello_4(name, name_2, location=\"Vilnius\", location_2=\"Palanga\"):\n",
    "    print (f'Hello {name} from {location}, I am {name_2} from {location_2}')"
   ]
  },
  {
   "cell_type": "code",
   "execution_count": 26,
   "metadata": {},
   "outputs": [
    {
     "name": "stdout",
     "output_type": "stream",
     "text": [
      "Hello Tomas from Vilnius, I am Darius from Palanga\n",
      "Hello Tomas from Vilnius, I am Darius from Kaunas\n"
     ]
    }
   ],
   "source": [
    "hello_4('Tomas', 'Darius')\n",
    "hello_4('Tomas', 'Darius', location_2='Kaunas')"
   ]
  },
  {
   "cell_type": "code",
   "execution_count": 27,
   "metadata": {},
   "outputs": [
    {
     "ename": "TypeError",
     "evalue": "hello_4() missing 1 required positional argument: 'name_2'",
     "output_type": "error",
     "traceback": [
      "\u001b[0;31m---------------------------------------------------------------------------\u001b[0m",
      "\u001b[0;31mTypeError\u001b[0m                                 Traceback (most recent call last)",
      "\u001b[0;32m/var/folders/wc/k06hmgr52sxcn6sr_stnt9b00000gn/T/ipykernel_14661/4039407642.py\u001b[0m in \u001b[0;36m<module>\u001b[0;34m\u001b[0m\n\u001b[0;32m----> 1\u001b[0;31m \u001b[0mhello_4\u001b[0m\u001b[0;34m(\u001b[0m\u001b[0;34m'Tomas'\u001b[0m\u001b[0;34m)\u001b[0m \u001b[0;31m# error\u001b[0m\u001b[0;34m\u001b[0m\u001b[0;34m\u001b[0m\u001b[0m\n\u001b[0m",
      "\u001b[0;31mTypeError\u001b[0m: hello_4() missing 1 required positional argument: 'name_2'"
     ]
    }
   ],
   "source": [
    "hello_4('Tomas') # error"
   ]
  },
  {
   "cell_type": "code",
   "execution_count": 29,
   "metadata": {},
   "outputs": [],
   "source": [
    "def add_2(x, y): # does not give back result\n",
    "    x + y\n",
    "    print (x + y)"
   ]
  },
  {
   "cell_type": "code",
   "execution_count": 30,
   "metadata": {},
   "outputs": [
    {
     "name": "stdout",
     "output_type": "stream",
     "text": [
      "9\n",
      "None\n"
     ]
    }
   ],
   "source": [
    "result = add_2(5,4)\n",
    "print (result)"
   ]
  },
  {
   "cell_type": "code",
   "execution_count": 32,
   "metadata": {},
   "outputs": [],
   "source": [
    "def add_2(x, y): # does give back result\n",
    "    x + y\n",
    "    print (x + y)\n",
    "    return x + y\n",
    "    print ('This will not be printed')"
   ]
  },
  {
   "cell_type": "code",
   "execution_count": 33,
   "metadata": {},
   "outputs": [
    {
     "name": "stdout",
     "output_type": "stream",
     "text": [
      "9\n",
      "9\n"
     ]
    }
   ],
   "source": [
    "result = add_2(5,4)\n",
    "print (result)"
   ]
  },
  {
   "cell_type": "markdown",
   "metadata": {},
   "source": [
    "Declare a function that accepts two numbers, if the sum of the numbers is even, return their product, if not, divide the numbers by each other"
   ]
  },
  {
   "cell_type": "code",
   "execution_count": 34,
   "metadata": {},
   "outputs": [],
   "source": [
    "def my_function(x,y):\n",
    "    if (x + y) % 2 == 0:\n",
    "        return x * y\n",
    "    else:\n",
    "        return x / y"
   ]
  },
  {
   "cell_type": "code",
   "execution_count": 35,
   "metadata": {},
   "outputs": [
    {
     "name": "stdout",
     "output_type": "stream",
     "text": [
      "12\n",
      "2.0\n"
     ]
    }
   ],
   "source": [
    "print (my_function(2,6) )\n",
    "print (my_function(10,5) )\n",
    "# print (my_function(10) ) # error"
   ]
  },
  {
   "cell_type": "markdown",
   "metadata": {},
   "source": [
    "Declare a function that accepts a single variable of string type, assign the function to a new variable, and call it through the new variable"
   ]
  },
  {
   "cell_type": "code",
   "execution_count": 37,
   "metadata": {},
   "outputs": [],
   "source": [
    "def my_print(string_1):\n",
    "    print (string_1)"
   ]
  },
  {
   "cell_type": "code",
   "execution_count": 38,
   "metadata": {},
   "outputs": [
    {
     "name": "stdout",
     "output_type": "stream",
     "text": [
      "original function\n",
      "Printing through new function variable\n"
     ]
    }
   ],
   "source": [
    "my_print('original function')\n",
    "function_variable = my_print\n",
    "function_variable('Printing through new function variable')"
   ]
  }
 ],
 "metadata": {
  "interpreter": {
   "hash": "aee8b7b246df8f9039afb4144a1f6fd8d2ca17a180786b69acc140d282b71a49"
  },
  "kernelspec": {
   "display_name": "Python 3.10.0 64-bit",
   "language": "python",
   "name": "python3"
  },
  "language_info": {
   "codemirror_mode": {
    "name": "ipython",
    "version": 3
   },
   "file_extension": ".py",
   "mimetype": "text/x-python",
   "name": "python",
   "nbconvert_exporter": "python",
   "pygments_lexer": "ipython3",
   "version": "3.10.0"
  },
  "orig_nbformat": 4
 },
 "nbformat": 4,
 "nbformat_minor": 2
}
