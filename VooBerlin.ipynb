{
 "cells": [
  {
   "cell_type": "code",
   "execution_count": 1,
   "metadata": {},
   "outputs": [],
   "source": [
    "import pandas as pd\n",
    "import requests as r\n",
    "from bs4 import BeautifulSoup"
   ]
  },
  {
   "cell_type": "code",
   "execution_count": 2,
   "metadata": {},
   "outputs": [
    {
     "name": "stdout",
     "output_type": "stream",
     "text": [
      "<Response [200]>\n"
     ]
    }
   ],
   "source": [
    "req1 = r.get('https://www.vooberlin.com/sneakers/new-in/')\n",
    "print (req1)"
   ]
  },
  {
   "cell_type": "code",
   "execution_count": 3,
   "metadata": {},
   "outputs": [],
   "source": [
    "soup = BeautifulSoup(req1.text, 'html.parser')"
   ]
  },
  {
   "cell_type": "code",
   "execution_count": 24,
   "metadata": {},
   "outputs": [],
   "source": [
    "product_lists = []\n",
    "products = soup.find_all('div', class_='w_product--infos')\n",
    "for product in products:\n",
    "    product_brand = product.find('span').text\n",
    "    product_description = product.find('span', class_='center').text\n",
    "    # product_description = product.find('a', class_='product--title').text\n",
    "    # product_description = product_description.replace('n',\"\")\n",
    "    # product_price = product.find('span', class_='price--default is--nowrap').text\n",
    "    # product_price = product_price.replace('n',\"\")\n",
    "    product_price = product.find('span', class_='price--default is--nowrap')\n",
    "    product_lists.append({'brand':product_brand, 'model':product_description,'price':product_price})"
   ]
  },
  {
   "cell_type": "code",
   "execution_count": 25,
   "metadata": {},
   "outputs": [
    {
     "name": "stdout",
     "output_type": "stream",
     "text": [
      "[{'brand': 'Salomon', 'model': ' \\nXT-6 Advanced Sneaker in White\\n', 'price': <span class=\"price--default is--nowrap\">\n",
      "€175.00\n",
      "</span>}, {'brand': 'Hoka One One', 'model': ' \\nM Clifton 8 Sneaker in White\\n', 'price': <span class=\"price--default is--nowrap\">\n",
      "€140.00\n",
      "</span>}, {'brand': 'Nike', 'model': ' \\nWMNS Air Force 1 Sculpt in White & Silver\\n', 'price': <span class=\"price--default is--nowrap\">\n",
      "€120.00\n",
      "</span>}, {'brand': 'Nike', 'model': ' \\nWMNS Air Force 1 Sculpt in White & Red\\n', 'price': <span class=\"price--default is--nowrap\">\n",
      "€120.00\n",
      "</span>}, {'brand': 'Adidas', 'model': ' \\nx Craig Green Scuba Phormar Sneaker in Green\\n', 'price': <span class=\"price--default is--nowrap\">\n",
      "€250.00\n",
      "</span>}, {'brand': 'Nike', 'model': ' \\nBe-do-win SP Sneaker in Black\\n', 'price': <span class=\"price--default is--nowrap\">\n",
      "€130.00\n",
      "</span>}, {'brand': 'New Balance', 'model': \" \\n990 v4 'Made in USA' Sneaker in Grey\\n\", 'price': <span class=\"price--default is--nowrap\">\n",
      "€250.00\n",
      "</span>}, {'brand': 'New Balance', 'model': \" \\nM 990 v3 'Made in USA' Sneaker in Grey\\n\", 'price': <span class=\"price--default is--nowrap\">\n",
      "€220.00\n",
      "</span>}, {'brand': 'New Balance', 'model': \" \\nM 991 'Made in UK' Sneaker in Silver & Grey\\n\", 'price': <span class=\"price--default is--nowrap\">\n",
      "€190.00\n",
      "</span>}, {'brand': 'New Balance', 'model': \" \\nW 991 'Made in UK' Sneaker in Grey\\n\", 'price': <span class=\"price--default is--nowrap\">\n",
      "€190.00\n",
      "</span>}, {'brand': 'New Balance', 'model': \" \\nM 920 'Made in UK' Sneaker in Navy & Burgundy\\n\", 'price': <span class=\"price--default is--nowrap\">\n",
      "€220.00\n",
      "</span>}, {'brand': 'Acne Studios', 'model': ' \\nN3W Trail Sneaker in Matte Black\\n', 'price': <span class=\"price--default is--nowrap\">\n",
      "€340.00\n",
      "</span>}, {'brand': 'Acne Studios', 'model': ' \\nN3W Trail Sneaker in Black\\n', 'price': <span class=\"price--default is--nowrap\">\n",
      "€340.00\n",
      "</span>}, {'brand': 'Acne Studios', 'model': ' \\nMens Bolzter Bryz Crystal Sneaker\\n', 'price': <span class=\"price--default is--nowrap\">\n",
      "€420.00\n",
      "</span>}, {'brand': 'Acne Studios', 'model': ' \\nWomens Bolzter Bryz Crystal Sneaker\\n', 'price': <span class=\"price--default is--nowrap\">\n",
      "€420.00\n",
      "</span>}, {'brand': 'Acne Studios', 'model': ' \\nWomens N3W Trail Sneaker in White\\n', 'price': <span class=\"price--default is--nowrap\">\n",
      "€340.00\n",
      "</span>}, {'brand': 'Nike', 'model': \" \\nx Undercover Dunk High '1985' Sneaker in Gym Red\\n\", 'price': <span class=\"price--default is--nowrap\">\n",
      "€150.00\n",
      "</span>}, {'brand': 'Nike', 'model': ' \\nx PEACEMINUSONE Kwondo 1 Sneaker in White (RAFFLE)\\n', 'price': None}, {'brand': 'New Balance', 'model': \" \\nM990 v5 'Made in USA' Sneaker in Navy\\n\", 'price': <span class=\"price--default is--nowrap\">\n",
      "€220.00\n",
      "</span>}, {'brand': 'New Balance', 'model': \" \\nM990 v5 'Made in USA' Sneaker in Black\\n\", 'price': <span class=\"price--default is--nowrap\">\n",
      "€220.00\n",
      "</span>}, {'brand': 'New Balance', 'model': \" \\nM990 v5 'Made in USA' Sneaker in Grey\\n\", 'price': <span class=\"price--default is--nowrap\">\n",
      "€220.00\n",
      "</span>}, {'brand': 'Converse', 'model': ' \\nChuck 70 Hi Sneaker in Black\\n', 'price': <span class=\"price--default is--nowrap\">\n",
      "€90.00\n",
      "</span>}, {'brand': 'Converse', 'model': ' \\nRun Star Motion Hi Sneaker in Black\\n', 'price': <span class=\"price--default is--nowrap\">\n",
      "€120.00\n",
      "</span>}, {'brand': 'Converse', 'model': ' \\nRun Star Motion Hi Sneaker in Light Twine\\n', 'price': <span class=\"price--default is--nowrap\">\n",
      "€120.00\n",
      "</span>}, {'brand': 'Salomon', 'model': ' \\nACS PRO Advanced Sneaker in Metal & Frost Gray\\n', 'price': None}, {'brand': 'Nike', 'model': ' \\nWMNS Lahar Low Sneaker in Black\\n', 'price': <span class=\"price--default is--nowrap\">\n",
      "€130.00\n",
      "</span>}, {'brand': 'Nike', 'model': ' \\nx sacai x KAWS Blazer Low Sneaker in Purple Dusk\\n', 'price': <span class=\"price--default is--nowrap\">\n",
      "€140.00\n",
      "</span>}, {'brand': 'Nike', 'model': ' \\nx sacai x KAWS Blazer Low Sneaker in Neptune Blue\\n', 'price': None}, {'brand': 'New Balance', 'model': \" \\n990 v3 'Made in USA' Sneaker in Navy\\n\", 'price': None}, {'brand': 'New Balance', 'model': \" \\n990 v3 'Made in USA' Sneaker in Grey\\n\", 'price': None}, {'brand': 'New Balance', 'model': \" \\n990 v2 'Made in USA' Sneaker in Grey & Green\\n\", 'price': <span class=\"price--default is--nowrap\">\n",
      "€220.00\n",
      "</span>}, {'brand': 'On', 'model': \" \\nMen's Cloudventure Sneaker in Cobble\\n\", 'price': <span class=\"price--default is--nowrap\">\n",
      "€160.00\n",
      "</span>}, {'brand': 'On', 'model': \" \\nWomen's Cloudrock Edge Raw Sneaker in White\\n\", 'price': <span class=\"price--default is--nowrap\">\n",
      "€240.00\n",
      "</span>}, {'brand': 'On', 'model': \" \\nMen's Cloudventure Waterproof Sneaker in Black\\n\", 'price': <span class=\"price--default is--nowrap\">\n",
      "€180.00\n",
      "</span>}, {'brand': 'On', 'model': \" \\nMen's Cloudventure Sneaker in Black & Reseda\\n\", 'price': <span class=\"price--default is--nowrap\">\n",
      "€160.00\n",
      "</span>}, {'brand': 'On', 'model': \" \\nWomen's Cloudventure Waterproof Sneaker in Black\\n\", 'price': <span class=\"price--default is--nowrap\">\n",
      "€180.00\n",
      "</span>}, {'brand': 'On', 'model': \" \\nWomen's Cloudventure Sneaker in Black & Cobble\\n\", 'price': <span class=\"price--default is--nowrap\">\n",
      "€160.00\n",
      "</span>}, {'brand': 'On', 'model': \" \\nWomen's Cloudventure Sneaker in Arctic\\n\", 'price': <span class=\"price--default is--nowrap\">\n",
      "€160.00\n",
      "</span>}, {'brand': 'Mizuno', 'model': ' \\nx Hajime Sorayama Wave Prophecy Sneaker in Black\\n', 'price': None}, {'brand': 'Nike', 'model': ' \\nx Sacai x Undercover LDWaffle Sneaker in Night...\\n', 'price': None}, {'brand': 'Nike', 'model': ' \\nx Sacai x Undercover LDWaffle Sneaker in Black...\\n', 'price': None}, {'brand': 'Nike', 'model': ' \\nAir Force 1 Sneaker in Summit White\\n', 'price': None}, {'brand': 'Nike', 'model': ' \\nAir Force 1 Sneaker in Off Noir\\n', 'price': None}, {'brand': 'Nike', 'model': \" \\nWMNS Air Force 1 '07 Sneaker in White\\n\", 'price': <span class=\"price--default is--nowrap\">\n",
      "€110.00\n",
      "</span>}, {'brand': 'Nike', 'model': ' \\nAir Force 1 Sneaker in White\\n', 'price': None}, {'brand': 'Nike', 'model': \" \\nAir Force 1 '07 Craft Sneaker in Sail & Beetroot\\n\", 'price': <span class=\"price--default is--nowrap\">\n",
      "€120.00\n",
      "</span>}, {'brand': 'New Balance', 'model': \" \\nM 991 'Made in UK' Sneaker in Olive Green\\n\", 'price': None}, {'brand': 'Nike', 'model': ' \\nWMNS Dunk Disrupt Low Sneaker in Summit White\\n', 'price': None}]\n"
     ]
    }
   ],
   "source": [
    "print (product_lists)"
   ]
  },
  {
   "cell_type": "code",
   "execution_count": 26,
   "metadata": {},
   "outputs": [
    {
     "name": "stdout",
     "output_type": "stream",
     "text": [
      "           brand                                              model  \\\n",
      "0        Salomon                 \\nXT-6 Advanced Sneaker in White\\n   \n",
      "1   Hoka One One                   \\nM Clifton 8 Sneaker in White\\n   \n",
      "2           Nike      \\nWMNS Air Force 1 Sculpt in White & Silver\\n   \n",
      "3           Nike         \\nWMNS Air Force 1 Sculpt in White & Red\\n   \n",
      "4         Adidas   \\nx Craig Green Scuba Phormar Sneaker in Green\\n   \n",
      "5           Nike                  \\nBe-do-win SP Sneaker in Black\\n   \n",
      "6    New Balance           \\n990 v4 'Made in USA' Sneaker in Grey\\n   \n",
      "7    New Balance         \\nM 990 v3 'Made in USA' Sneaker in Grey\\n   \n",
      "8    New Balance    \\nM 991 'Made in UK' Sneaker in Silver & Grey\\n   \n",
      "9    New Balance             \\nW 991 'Made in UK' Sneaker in Grey\\n   \n",
      "10   New Balance   \\nM 920 'Made in UK' Sneaker in Navy & Burgun...   \n",
      "11  Acne Studios               \\nN3W Trail Sneaker in Matte Black\\n   \n",
      "12  Acne Studios                     \\nN3W Trail Sneaker in Black\\n   \n",
      "13  Acne Studios              \\nMens Bolzter Bryz Crystal Sneaker\\n   \n",
      "14  Acne Studios            \\nWomens Bolzter Bryz Crystal Sneaker\\n   \n",
      "15  Acne Studios              \\nWomens N3W Trail Sneaker in White\\n   \n",
      "16          Nike   \\nx Undercover Dunk High '1985' Sneaker in Gy...   \n",
      "17          Nike   \\nx PEACEMINUSONE Kwondo 1 Sneaker in White (...   \n",
      "18   New Balance          \\nM990 v5 'Made in USA' Sneaker in Navy\\n   \n",
      "19   New Balance         \\nM990 v5 'Made in USA' Sneaker in Black\\n   \n",
      "20   New Balance          \\nM990 v5 'Made in USA' Sneaker in Grey\\n   \n",
      "21      Converse                   \\nChuck 70 Hi Sneaker in Black\\n   \n",
      "22      Converse            \\nRun Star Motion Hi Sneaker in Black\\n   \n",
      "23      Converse      \\nRun Star Motion Hi Sneaker in Light Twine\\n   \n",
      "24       Salomon   \\nACS PRO Advanced Sneaker in Metal & Frost G...   \n",
      "25          Nike                \\nWMNS Lahar Low Sneaker in Black\\n   \n",
      "26          Nike   \\nx sacai x KAWS Blazer Low Sneaker in Purple...   \n",
      "27          Nike   \\nx sacai x KAWS Blazer Low Sneaker in Neptun...   \n",
      "28   New Balance           \\n990 v3 'Made in USA' Sneaker in Navy\\n   \n",
      "29   New Balance           \\n990 v3 'Made in USA' Sneaker in Grey\\n   \n",
      "30   New Balance   \\n990 v2 'Made in USA' Sneaker in Grey & Green\\n   \n",
      "31            On           \\nMen's Cloudventure Sneaker in Cobble\\n   \n",
      "32            On    \\nWomen's Cloudrock Edge Raw Sneaker in White\\n   \n",
      "33            On   \\nMen's Cloudventure Waterproof Sneaker in Bl...   \n",
      "34            On   \\nMen's Cloudventure Sneaker in Black & Reseda\\n   \n",
      "35            On   \\nWomen's Cloudventure Waterproof Sneaker in ...   \n",
      "36            On   \\nWomen's Cloudventure Sneaker in Black & Cob...   \n",
      "37            On         \\nWomen's Cloudventure Sneaker in Arctic\\n   \n",
      "38        Mizuno   \\nx Hajime Sorayama Wave Prophecy Sneaker in ...   \n",
      "39          Nike   \\nx Sacai x Undercover LDWaffle Sneaker in Ni...   \n",
      "40          Nike   \\nx Sacai x Undercover LDWaffle Sneaker in Bl...   \n",
      "41          Nike            \\nAir Force 1 Sneaker in Summit White\\n   \n",
      "42          Nike                \\nAir Force 1 Sneaker in Off Noir\\n   \n",
      "43          Nike          \\nWMNS Air Force 1 '07 Sneaker in White\\n   \n",
      "44          Nike                   \\nAir Force 1 Sneaker in White\\n   \n",
      "45          Nike   \\nAir Force 1 '07 Craft Sneaker in Sail & Bee...   \n",
      "46   New Balance      \\nM 991 'Made in UK' Sneaker in Olive Green\\n   \n",
      "47          Nike   \\nWMNS Dunk Disrupt Low Sneaker in Summit Whi...   \n",
      "\n",
      "            price  \n",
      "0   [\\n€175.00\\n]  \n",
      "1   [\\n€140.00\\n]  \n",
      "2   [\\n€120.00\\n]  \n",
      "3   [\\n€120.00\\n]  \n",
      "4   [\\n€250.00\\n]  \n",
      "5   [\\n€130.00\\n]  \n",
      "6   [\\n€250.00\\n]  \n",
      "7   [\\n€220.00\\n]  \n",
      "8   [\\n€190.00\\n]  \n",
      "9   [\\n€190.00\\n]  \n",
      "10  [\\n€220.00\\n]  \n",
      "11  [\\n€340.00\\n]  \n",
      "12  [\\n€340.00\\n]  \n",
      "13  [\\n€420.00\\n]  \n",
      "14  [\\n€420.00\\n]  \n",
      "15  [\\n€340.00\\n]  \n",
      "16  [\\n€150.00\\n]  \n",
      "17           None  \n",
      "18  [\\n€220.00\\n]  \n",
      "19  [\\n€220.00\\n]  \n",
      "20  [\\n€220.00\\n]  \n",
      "21   [\\n€90.00\\n]  \n",
      "22  [\\n€120.00\\n]  \n",
      "23  [\\n€120.00\\n]  \n",
      "24           None  \n",
      "25  [\\n€130.00\\n]  \n",
      "26  [\\n€140.00\\n]  \n",
      "27           None  \n",
      "28           None  \n",
      "29           None  \n",
      "30  [\\n€220.00\\n]  \n",
      "31  [\\n€160.00\\n]  \n",
      "32  [\\n€240.00\\n]  \n",
      "33  [\\n€180.00\\n]  \n",
      "34  [\\n€160.00\\n]  \n",
      "35  [\\n€180.00\\n]  \n",
      "36  [\\n€160.00\\n]  \n",
      "37  [\\n€160.00\\n]  \n",
      "38           None  \n",
      "39           None  \n",
      "40           None  \n",
      "41           None  \n",
      "42           None  \n",
      "43  [\\n€110.00\\n]  \n",
      "44           None  \n",
      "45  [\\n€120.00\\n]  \n",
      "46           None  \n",
      "47           None  \n"
     ]
    }
   ],
   "source": [
    "df = pd.DataFrame(product_lists)\n",
    "print (df)"
   ]
  },
  {
   "cell_type": "code",
   "execution_count": 11,
   "metadata": {},
   "outputs": [],
   "source": [
    "df.to_csv('voo_sneakers.csv')"
   ]
  },
  {
   "cell_type": "markdown",
   "metadata": {},
   "source": [
    "# Product Info"
   ]
  },
  {
   "cell_type": "code",
   "execution_count": null,
   "metadata": {},
   "outputs": [
    {
     "data": {
      "text/plain": [
       "<div class=\"w_product--infos\">\n",
       "<span class=\"w_suppliername\">Salomon</span>\n",
       "<span class=\"center\"> <a class=\"product--title\" href=\"https://www.vooberlin.com/men/footwear/sneakers/salomon/xt-6-advanced-sneaker-in-white/l41252900\" title=\"XT-6 Advanced Sneaker in White\">\n",
       "XT-6 Advanced Sneaker in White\n",
       "</a></span>\n",
       "<div class=\"product--price-info\">\n",
       "<div class=\"price--unit\" title=\"Content\">\n",
       "</div>\n",
       "<div class=\"product--price-outer\">\n",
       "<div class=\"product--price\">\n",
       "<span class=\"price--default is--nowrap\">\n",
       "€175.00\n",
       "</span>\n",
       "</div>\n",
       "</div>\n",
       "</div>\n",
       "</div>"
      ]
     },
     "execution_count": 116,
     "metadata": {},
     "output_type": "execute_result"
    }
   ],
   "source": [
    "products [0]"
   ]
  },
  {
   "cell_type": "code",
   "execution_count": null,
   "metadata": {},
   "outputs": [
    {
     "data": {
      "text/plain": [
       "'Salomon'"
      ]
     },
     "execution_count": 115,
     "metadata": {},
     "output_type": "execute_result"
    }
   ],
   "source": [
    "products [0].find('span').text\n"
   ]
  },
  {
   "cell_type": "code",
   "execution_count": null,
   "metadata": {},
   "outputs": [
    {
     "data": {
      "text/plain": [
       "' \\nXT-6 Advanced Sneaker in White\\n'"
      ]
     },
     "execution_count": 113,
     "metadata": {},
     "output_type": "execute_result"
    }
   ],
   "source": [
    "products [0].find('span', class_='center').text"
   ]
  },
  {
   "cell_type": "code",
   "execution_count": null,
   "metadata": {},
   "outputs": [
    {
     "data": {
      "text/plain": [
       "'\\nXT-6 Advanced Sneaker in White\\n'"
      ]
     },
     "execution_count": 117,
     "metadata": {},
     "output_type": "execute_result"
    }
   ],
   "source": [
    "products [0].find('a', class_='product--title').text"
   ]
  },
  {
   "cell_type": "code",
   "execution_count": null,
   "metadata": {},
   "outputs": [
    {
     "data": {
      "text/plain": [
       "'\\n€175.00\\n'"
      ]
     },
     "execution_count": 114,
     "metadata": {},
     "output_type": "execute_result"
    }
   ],
   "source": [
    "products [0].find('span', class_='price--default is--nowrap').text"
   ]
  }
 ],
 "metadata": {
  "interpreter": {
   "hash": "aee8b7b246df8f9039afb4144a1f6fd8d2ca17a180786b69acc140d282b71a49"
  },
  "kernelspec": {
   "display_name": "Python 3.10.0 64-bit",
   "language": "python",
   "name": "python3"
  },
  "language_info": {
   "codemirror_mode": {
    "name": "ipython",
    "version": 3
   },
   "file_extension": ".py",
   "mimetype": "text/x-python",
   "name": "python",
   "nbconvert_exporter": "python",
   "pygments_lexer": "ipython3",
   "version": "3.8.8"
  },
  "orig_nbformat": 4
 },
 "nbformat": 4,
 "nbformat_minor": 2
}
