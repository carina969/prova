{
 "cells": [
  {
   "cell_type": "code",
   "execution_count": null,
   "metadata": {},
   "outputs": [],
   "source": []
  },
  {
   "cell_type": "markdown",
   "metadata": {},
   "source": [
    "# Working with files\n"
   ]
  },
  {
   "cell_type": "code",
   "execution_count": 1,
   "metadata": {},
   "outputs": [],
   "source": [
    "import os "
   ]
  },
  {
   "cell_type": "code",
   "execution_count": 2,
   "metadata": {},
   "outputs": [
    {
     "data": {
      "text/plain": [
       "'/Users/karinaarlauskaite/Desktop/Python GitHub/prova'"
      ]
     },
     "execution_count": 2,
     "metadata": {},
     "output_type": "execute_result"
    }
   ],
   "source": [
    "os.getcwd()"
   ]
  },
  {
   "cell_type": "code",
   "execution_count": 5,
   "metadata": {},
   "outputs": [
    {
     "ename": "FileNotFoundError",
     "evalue": "[Errno 2] No such file or directory: '..\\\\..'",
     "output_type": "error",
     "traceback": [
      "\u001b[0;31m---------------------------------------------------------------------------\u001b[0m",
      "\u001b[0;31mFileNotFoundError\u001b[0m                         Traceback (most recent call last)",
      "\u001b[0;32m/var/folders/wc/k06hmgr52sxcn6sr_stnt9b00000gn/T/ipykernel_2237/3169832694.py\u001b[0m in \u001b[0;36m<module>\u001b[0;34m\u001b[0m\n\u001b[0;32m----> 1\u001b[0;31m \u001b[0mos\u001b[0m\u001b[0;34m.\u001b[0m\u001b[0mchdir\u001b[0m\u001b[0;34m(\u001b[0m\u001b[0;34m'..\\\\..'\u001b[0m\u001b[0;34m)\u001b[0m\u001b[0;34m\u001b[0m\u001b[0;34m\u001b[0m\u001b[0m\n\u001b[0m",
      "\u001b[0;31mFileNotFoundError\u001b[0m: [Errno 2] No such file or directory: '..\\\\..'"
     ]
    }
   ],
   "source": [
    "os.chdir('..\\\\..')"
   ]
  },
  {
   "cell_type": "code",
   "execution_count": 6,
   "metadata": {},
   "outputs": [
    {
     "data": {
      "text/plain": [
       "'/Users/karinaarlauskaite/Desktop/Python GitHub/prova'"
      ]
     },
     "execution_count": 6,
     "metadata": {},
     "output_type": "execute_result"
    }
   ],
   "source": [
    "os.getcwd()"
   ]
  },
  {
   "cell_type": "code",
   "execution_count": 7,
   "metadata": {},
   "outputs": [
    {
     "ename": "FileNotFoundError",
     "evalue": "[Errno 2] No such file or directory: 'c:\\\\Users\\\\Robotux\\\\Documents\\\\Python\\\\20211109VCSPYTB2B'",
     "output_type": "error",
     "traceback": [
      "\u001b[0;31m---------------------------------------------------------------------------\u001b[0m",
      "\u001b[0;31mFileNotFoundError\u001b[0m                         Traceback (most recent call last)",
      "\u001b[0;32m/var/folders/wc/k06hmgr52sxcn6sr_stnt9b00000gn/T/ipykernel_2237/1731696202.py\u001b[0m in \u001b[0;36m<module>\u001b[0;34m\u001b[0m\n\u001b[0;32m----> 1\u001b[0;31m \u001b[0mos\u001b[0m\u001b[0;34m.\u001b[0m\u001b[0mchdir\u001b[0m\u001b[0;34m(\u001b[0m\u001b[0;34m'c:\\\\Users\\\\Robotux\\\\Documents\\\\Python\\\\20211109VCSPYTB2B'\u001b[0m\u001b[0;34m)\u001b[0m\u001b[0;34m\u001b[0m\u001b[0;34m\u001b[0m\u001b[0m\n\u001b[0m",
      "\u001b[0;31mFileNotFoundError\u001b[0m: [Errno 2] No such file or directory: 'c:\\\\Users\\\\Robotux\\\\Documents\\\\Python\\\\20211109VCSPYTB2B'"
     ]
    }
   ],
   "source": [
    "os.chdir('c:\\\\Users\\\\Robotux\\\\Documents\\\\Python\\\\20211109VCSPYTB2B')"
   ]
  },
  {
   "cell_type": "code",
   "execution_count": 8,
   "metadata": {},
   "outputs": [],
   "source": [
    "os.chdir('../..')"
   ]
  },
  {
   "cell_type": "code",
   "execution_count": 9,
   "metadata": {},
   "outputs": [
    {
     "data": {
      "text/plain": [
       "'/Users/karinaarlauskaite/Desktop'"
      ]
     },
     "execution_count": 9,
     "metadata": {},
     "output_type": "execute_result"
    }
   ],
   "source": [
    "os.getcwd()"
   ]
  },
  {
   "cell_type": "code",
   "execution_count": 10,
   "metadata": {},
   "outputs": [
    {
     "ename": "FileNotFoundError",
     "evalue": "[Errno 2] No such file or directory: 'c:\\\\Users\\\\Robotux\\\\Documents\\\\Python\\\\20211109VCSPYTB2B'",
     "output_type": "error",
     "traceback": [
      "\u001b[0;31m---------------------------------------------------------------------------\u001b[0m",
      "\u001b[0;31mFileNotFoundError\u001b[0m                         Traceback (most recent call last)",
      "\u001b[0;32m/var/folders/wc/k06hmgr52sxcn6sr_stnt9b00000gn/T/ipykernel_2237/1731696202.py\u001b[0m in \u001b[0;36m<module>\u001b[0;34m\u001b[0m\n\u001b[0;32m----> 1\u001b[0;31m \u001b[0mos\u001b[0m\u001b[0;34m.\u001b[0m\u001b[0mchdir\u001b[0m\u001b[0;34m(\u001b[0m\u001b[0;34m'c:\\\\Users\\\\Robotux\\\\Documents\\\\Python\\\\20211109VCSPYTB2B'\u001b[0m\u001b[0;34m)\u001b[0m\u001b[0;34m\u001b[0m\u001b[0;34m\u001b[0m\u001b[0m\n\u001b[0m",
      "\u001b[0;31mFileNotFoundError\u001b[0m: [Errno 2] No such file or directory: 'c:\\\\Users\\\\Robotux\\\\Documents\\\\Python\\\\20211109VCSPYTB2B'"
     ]
    }
   ],
   "source": [
    "os.chdir('c:\\\\Users\\\\Robotux\\\\Documents\\\\Python\\\\20211109VCSPYTB2B')"
   ]
  },
  {
   "cell_type": "code",
   "execution_count": 11,
   "metadata": {},
   "outputs": [
    {
     "name": "stdout",
     "output_type": "stream",
     "text": [
      "['Mishka', 'Visual Studio Code.app', '~$rmulas.docx', '~$sociate.docx', '~$esis ideas.docx', 'CV Karina Arlauskaite.pdf', 'Lorma 2021', '.DS_Store', 'Python', '.localized', '~$ašymas_atidėti Sodra 2021-02.docx', '~$ort book.docx', '~$rketing Communication.docx', '~$shion industry.docx', '~$ International entrepreneurship.docx', 'PICTURES', '~$esis ideas stefania.docx', '~$CJ Analyst - Excel test_v02.xlsx', 'Etikete - print.docx', \"~$Understanding Influencers' Strategies.pptx\", '~$vestment management.docx', 'Wedn', 'Books', '~$Workbook1 (version 1).xlsx', 'Danske bank - speech', 'Python GitHub', '~$p promotion via illustrations.edited.docx', '~$Workbook1 (version 1) (version 1).xlsx', 'PORTFOLIO', '~$aft CEO.docx', 'CVs & cover letters', '~$rmat CV (internship e field project).docx', 'AI Project', '~$ea eco country.docx', 'Pitch Deck.key', '~$stract CEO branding.docx', 'Pellet', '~$mmunications Strategist.docx', 'FW20-21 (3).pdf']\n"
     ]
    }
   ],
   "source": [
    "print( os.listdir() )"
   ]
  },
  {
   "cell_type": "code",
   "execution_count": 12,
   "metadata": {},
   "outputs": [],
   "source": [
    "os.mkdir('test_folder') # gives error on 2nd run"
   ]
  },
  {
   "cell_type": "code",
   "execution_count": 13,
   "metadata": {},
   "outputs": [
    {
     "ename": "FileNotFoundError",
     "evalue": "[Errno 2] No such file or directory: 'test_folder/test1/test2'",
     "output_type": "error",
     "traceback": [
      "\u001b[0;31m---------------------------------------------------------------------------\u001b[0m",
      "\u001b[0;31mFileNotFoundError\u001b[0m                         Traceback (most recent call last)",
      "\u001b[0;32m/var/folders/wc/k06hmgr52sxcn6sr_stnt9b00000gn/T/ipykernel_2237/3908918685.py\u001b[0m in \u001b[0;36m<module>\u001b[0;34m\u001b[0m\n\u001b[0;32m----> 1\u001b[0;31m \u001b[0mos\u001b[0m\u001b[0;34m.\u001b[0m\u001b[0mmkdir\u001b[0m\u001b[0;34m(\u001b[0m\u001b[0;34m'test_folder/test1/test2'\u001b[0m\u001b[0;34m)\u001b[0m \u001b[0;31m# only creates a single folder\u001b[0m\u001b[0;34m\u001b[0m\u001b[0;34m\u001b[0m\u001b[0m\n\u001b[0m",
      "\u001b[0;31mFileNotFoundError\u001b[0m: [Errno 2] No such file or directory: 'test_folder/test1/test2'"
     ]
    }
   ],
   "source": [
    "os.mkdir('test_folder/test1/test2') # only creates a single folder"
   ]
  },
  {
   "cell_type": "code",
   "execution_count": 14,
   "metadata": {},
   "outputs": [],
   "source": [
    "os.makedirs('test_folder/test1/test2') # gives error on 2nd run"
   ]
  },
  {
   "cell_type": "code",
   "execution_count": 15,
   "metadata": {},
   "outputs": [],
   "source": [
    "os.makedirs('test_folder/test1/test2', exist_ok=True) # does not give error if exists"
   ]
  },
  {
   "cell_type": "code",
   "execution_count": 16,
   "metadata": {},
   "outputs": [],
   "source": [
    "os.rmdir('test_folder/test1/test2') # only removes single folder and 2nd run gives an error"
   ]
  },
  {
   "cell_type": "code",
   "execution_count": 17,
   "metadata": {},
   "outputs": [],
   "source": [
    "os.removedirs('test_folder/test1')"
   ]
  },
  {
   "cell_type": "code",
   "execution_count": 18,
   "metadata": {},
   "outputs": [],
   "source": [
    "os.makedirs('test_folder/test1/test2') # gives error on 2nd run"
   ]
  },
  {
   "cell_type": "code",
   "execution_count": 19,
   "metadata": {},
   "outputs": [],
   "source": [
    "os.removedirs('test_folder/test1/test2') # "
   ]
  },
  {
   "cell_type": "code",
   "execution_count": 20,
   "metadata": {},
   "outputs": [
    {
     "ename": "FileNotFoundError",
     "evalue": "[Errno 2] No such file or directory: 'test_folder/New Text Document.txt' -> 'test_text_file.txt'",
     "output_type": "error",
     "traceback": [
      "\u001b[0;31m---------------------------------------------------------------------------\u001b[0m",
      "\u001b[0;31mFileNotFoundError\u001b[0m                         Traceback (most recent call last)",
      "\u001b[0;32m/var/folders/wc/k06hmgr52sxcn6sr_stnt9b00000gn/T/ipykernel_2237/1022895444.py\u001b[0m in \u001b[0;36m<module>\u001b[0;34m\u001b[0m\n\u001b[0;32m----> 1\u001b[0;31m \u001b[0mos\u001b[0m\u001b[0;34m.\u001b[0m\u001b[0mrename\u001b[0m\u001b[0;34m(\u001b[0m\u001b[0;34m'test_folder/New Text Document.txt'\u001b[0m\u001b[0;34m,\u001b[0m \u001b[0;34m'test_text_file.txt'\u001b[0m\u001b[0;34m)\u001b[0m \u001b[0;31m# renames and can also move file\u001b[0m\u001b[0;34m\u001b[0m\u001b[0;34m\u001b[0m\u001b[0m\n\u001b[0m",
      "\u001b[0;31mFileNotFoundError\u001b[0m: [Errno 2] No such file or directory: 'test_folder/New Text Document.txt' -> 'test_text_file.txt'"
     ]
    }
   ],
   "source": [
    "os.rename('test_folder/New Text Document.txt', 'test_text_file.txt') # renames and can also move file "
   ]
  },
  {
   "cell_type": "code",
   "execution_count": 21,
   "metadata": {},
   "outputs": [
    {
     "ename": "FileNotFoundError",
     "evalue": "[Errno 2] No such file or directory: 'test.txt'",
     "output_type": "error",
     "traceback": [
      "\u001b[0;31m---------------------------------------------------------------------------\u001b[0m",
      "\u001b[0;31mFileNotFoundError\u001b[0m                         Traceback (most recent call last)",
      "\u001b[0;32m/var/folders/wc/k06hmgr52sxcn6sr_stnt9b00000gn/T/ipykernel_2237/2609706735.py\u001b[0m in \u001b[0;36m<module>\u001b[0;34m\u001b[0m\n\u001b[0;32m----> 1\u001b[0;31m \u001b[0mos\u001b[0m\u001b[0;34m.\u001b[0m\u001b[0mstat\u001b[0m\u001b[0;34m(\u001b[0m\u001b[0;34m'test.txt'\u001b[0m\u001b[0;34m)\u001b[0m\u001b[0;34m\u001b[0m\u001b[0;34m\u001b[0m\u001b[0m\n\u001b[0m",
      "\u001b[0;31mFileNotFoundError\u001b[0m: [Errno 2] No such file or directory: 'test.txt'"
     ]
    }
   ],
   "source": [
    "os.stat('test.txt')"
   ]
  },
  {
   "cell_type": "code",
   "execution_count": null,
   "metadata": {},
   "outputs": [],
   "source": [
    "with open('test_text_file.txt', 'r') as fr:\n",
    "    # print (repr( fr.read() ) )\n",
    "    for line in fr.readlines():\n",
    "        print(line)\n",
    "        print('NEXT LINE IS')\n",
    "print(\"file is closed, can't read it \")\n",
    "# fr.read() # error"
   ]
  },
  {
   "cell_type": "code",
   "execution_count": null,
   "metadata": {},
   "outputs": [],
   "source": [
    "with open('write.txt', 'w') as fw:\n",
    "    fw.write( 'Hello world! I am writing to this file\\n' )\n",
    "    fw.write( 'New line' )"
   ]
  },
  {
   "cell_type": "code",
   "execution_count": null,
   "metadata": {},
   "outputs": [],
   "source": [
    "import shutil\n",
    "shutil.rmtree('test_folder')"
   ]
  },
  {
   "cell_type": "code",
   "execution_count": null,
   "metadata": {},
   "outputs": [],
   "source": [
    "folder_1  = 'c:\\\\Users\\\\Robotux\\\\Documents'\n",
    "folder_2 = 'Python'\n",
    "folder_3 = '20211109VCSPYTB2B'\n",
    "file_name = 'README.md'"
   ]
  },
  {
   "cell_type": "code",
   "execution_count": null,
   "metadata": {},
   "outputs": [],
   "source": [
    "path = os.path.join(folder_1, folder_2, folder_3 )\n",
    "print (path)\n",
    "os.listdir(path)"
   ]
  },
  {
   "cell_type": "markdown",
   "metadata": {},
   "source": [
    "# JSON"
   ]
  },
  {
   "cell_type": "code",
   "execution_count": 24,
   "metadata": {},
   "outputs": [
    {
     "name": "stdout",
     "output_type": "stream",
     "text": [
      "{'name': 'Darius', 'city': 'Vilnius'}\n"
     ]
    }
   ],
   "source": [
    "import json \n",
    "\n",
    "info = {\n",
    "    'name': 'Darius',\n",
    "    'city': 'Vilnius' \n",
    "}\n",
    "\n",
    "with open('info.json', mode='w') as fw:\n",
    "    json.dump(info, fw)\n",
    "\n",
    "with open('info.json', mode='r') as fr:\n",
    "    info_2 = json.load(fr)\n",
    "\n",
    "print (info_2)"
   ]
  },
  {
   "cell_type": "markdown",
   "metadata": {},
   "source": [
    "# Classes"
   ]
  },
  {
   "cell_type": "code",
   "execution_count": 25,
   "metadata": {},
   "outputs": [],
   "source": [
    "# object description, template\n",
    "class Pipe:\n",
    "    def __init__(self, diameter, crossection_type='round'): \n",
    "        # attributes\n",
    "        self.diameter = diameter\n",
    "        self.crossection_type = crossection_type\n",
    "\n",
    "    # methods\n",
    "    def __repr__(self) -> str:\n",
    "        return f'A {self.crossection_type} pipe with a diameter of {self.diameter}'\n",
    "\n",
    "    def __eq__(self, second_pipe) -> bool:\n",
    "        return self.diameter == second_pipe.diameter\n",
    "    \n",
    "    def __lt__(self, second_pipe) -> bool:\n",
    "        return self.diameter < second_pipe.diameter\n",
    "\n",
    "    def crossection_area(self):\n",
    "        area = None\n",
    "        if self.crossection_type == 'round':\n",
    "            area = 3.14 * (self.diameter / 2) ** 2\n",
    "        else:\n",
    "            raise ValueError(f'Crossection {self.crossection_type} is unknown')\n",
    "        return area\n",
    "\n",
    "    def flow_rate(self, velocity):\n",
    "        return self.crossection_area() * velocity"
   ]
  },
  {
   "cell_type": "code",
   "execution_count": null,
   "metadata": {},
   "outputs": [],
   "source": [
    "# # same wihtout class\n",
    "# def crossection_area(diameter, crossection_type):\n",
    "#     area = None\n",
    "#     if crossection_type == 'round':\n",
    "#         area = 3.14 * (diameter / 2) ** 2\n",
    "#     else:\n",
    "#         raise ValueError(f'Crossection {crossection_type} is unknown')\n",
    "#     return area\n",
    "\n",
    "# def flow_rate(area, velocity):\n",
    "#     return area * velocity"
   ]
  },
  {
   "cell_type": "code",
   "execution_count": 26,
   "metadata": {},
   "outputs": [],
   "source": [
    "# instances of our class\n",
    "pipe_1 = Pipe(0.5, crossection_type='round')\n",
    "pipe_2 = Pipe(0.75, crossection_type='round')\n",
    "pipe_3 = Pipe(0.5, crossection_type='round')"
   ]
  },
  {
   "cell_type": "code",
   "execution_count": 27,
   "metadata": {},
   "outputs": [
    {
     "name": "stdout",
     "output_type": "stream",
     "text": [
      "0.5\n",
      "0.75\n"
     ]
    }
   ],
   "source": [
    "print (pipe_1.diameter)\n",
    "print (pipe_2.diameter)"
   ]
  },
  {
   "cell_type": "code",
   "execution_count": 28,
   "metadata": {},
   "outputs": [
    {
     "name": "stdout",
     "output_type": "stream",
     "text": [
      "A round pipe with a diameter of 0.5\n",
      "A round pipe with a diameter of 0.75\n"
     ]
    }
   ],
   "source": [
    "print (pipe_1)\n",
    "print (pipe_2)"
   ]
  },
  {
   "cell_type": "code",
   "execution_count": 29,
   "metadata": {},
   "outputs": [
    {
     "data": {
      "text/plain": [
       "False"
      ]
     },
     "execution_count": 29,
     "metadata": {},
     "output_type": "execute_result"
    }
   ],
   "source": [
    "pipe_1 == pipe_2"
   ]
  },
  {
   "cell_type": "code",
   "execution_count": 30,
   "metadata": {},
   "outputs": [
    {
     "data": {
      "text/plain": [
       "True"
      ]
     },
     "execution_count": 30,
     "metadata": {},
     "output_type": "execute_result"
    }
   ],
   "source": [
    "pipe_1 == pipe_3"
   ]
  },
  {
   "cell_type": "code",
   "execution_count": 31,
   "metadata": {},
   "outputs": [
    {
     "data": {
      "text/plain": [
       "False"
      ]
     },
     "execution_count": 31,
     "metadata": {},
     "output_type": "execute_result"
    }
   ],
   "source": [
    "pipe_1 > pipe_2"
   ]
  },
  {
   "cell_type": "code",
   "execution_count": 32,
   "metadata": {},
   "outputs": [
    {
     "data": {
      "text/plain": [
       "True"
      ]
     },
     "execution_count": 32,
     "metadata": {},
     "output_type": "execute_result"
    }
   ],
   "source": [
    "pipe_1 < pipe_2"
   ]
  },
  {
   "cell_type": "code",
   "execution_count": 33,
   "metadata": {},
   "outputs": [
    {
     "name": "stdout",
     "output_type": "stream",
     "text": [
      "0.19625\n",
      "0.4415625\n"
     ]
    },
    {
     "ename": "ValueError",
     "evalue": "Crossection square is unknown",
     "output_type": "error",
     "traceback": [
      "\u001b[0;31m---------------------------------------------------------------------------\u001b[0m",
      "\u001b[0;31mValueError\u001b[0m                                Traceback (most recent call last)",
      "\u001b[0;32m/var/folders/wc/k06hmgr52sxcn6sr_stnt9b00000gn/T/ipykernel_2237/4090821935.py\u001b[0m in \u001b[0;36m<module>\u001b[0;34m\u001b[0m\n\u001b[1;32m      2\u001b[0m \u001b[0mprint\u001b[0m \u001b[0;34m(\u001b[0m\u001b[0mpipe_2\u001b[0m\u001b[0;34m.\u001b[0m\u001b[0mcrossection_area\u001b[0m\u001b[0;34m(\u001b[0m\u001b[0;34m)\u001b[0m \u001b[0;34m)\u001b[0m\u001b[0;34m\u001b[0m\u001b[0;34m\u001b[0m\u001b[0m\n\u001b[1;32m      3\u001b[0m \u001b[0mpipe_4\u001b[0m \u001b[0;34m=\u001b[0m \u001b[0mPipe\u001b[0m\u001b[0;34m(\u001b[0m\u001b[0;36m0.5\u001b[0m\u001b[0;34m,\u001b[0m \u001b[0mcrossection_type\u001b[0m\u001b[0;34m=\u001b[0m\u001b[0;34m'square'\u001b[0m\u001b[0;34m)\u001b[0m\u001b[0;34m\u001b[0m\u001b[0;34m\u001b[0m\u001b[0m\n\u001b[0;32m----> 4\u001b[0;31m \u001b[0mpipe_4\u001b[0m\u001b[0;34m.\u001b[0m\u001b[0mcrossection_area\u001b[0m\u001b[0;34m(\u001b[0m\u001b[0;34m)\u001b[0m\u001b[0;34m\u001b[0m\u001b[0;34m\u001b[0m\u001b[0m\n\u001b[0m",
      "\u001b[0;32m/var/folders/wc/k06hmgr52sxcn6sr_stnt9b00000gn/T/ipykernel_2237/973159497.py\u001b[0m in \u001b[0;36mcrossection_area\u001b[0;34m(self)\u001b[0m\n\u001b[1;32m     21\u001b[0m             \u001b[0marea\u001b[0m \u001b[0;34m=\u001b[0m \u001b[0;36m3.14\u001b[0m \u001b[0;34m*\u001b[0m \u001b[0;34m(\u001b[0m\u001b[0mself\u001b[0m\u001b[0;34m.\u001b[0m\u001b[0mdiameter\u001b[0m \u001b[0;34m/\u001b[0m \u001b[0;36m2\u001b[0m\u001b[0;34m)\u001b[0m \u001b[0;34m**\u001b[0m \u001b[0;36m2\u001b[0m\u001b[0;34m\u001b[0m\u001b[0;34m\u001b[0m\u001b[0m\n\u001b[1;32m     22\u001b[0m         \u001b[0;32melse\u001b[0m\u001b[0;34m:\u001b[0m\u001b[0;34m\u001b[0m\u001b[0;34m\u001b[0m\u001b[0m\n\u001b[0;32m---> 23\u001b[0;31m             \u001b[0;32mraise\u001b[0m \u001b[0mValueError\u001b[0m\u001b[0;34m(\u001b[0m\u001b[0;34mf'Crossection {self.crossection_type} is unknown'\u001b[0m\u001b[0;34m)\u001b[0m\u001b[0;34m\u001b[0m\u001b[0;34m\u001b[0m\u001b[0m\n\u001b[0m\u001b[1;32m     24\u001b[0m         \u001b[0;32mreturn\u001b[0m \u001b[0marea\u001b[0m\u001b[0;34m\u001b[0m\u001b[0;34m\u001b[0m\u001b[0m\n\u001b[1;32m     25\u001b[0m \u001b[0;34m\u001b[0m\u001b[0m\n",
      "\u001b[0;31mValueError\u001b[0m: Crossection square is unknown"
     ]
    }
   ],
   "source": [
    "print (pipe_1.crossection_area() )\n",
    "print (pipe_2.crossection_area() )\n",
    "pipe_4 = Pipe(0.5, crossection_type='square')\n",
    "pipe_4.crossection_area()"
   ]
  },
  {
   "cell_type": "code",
   "execution_count": 34,
   "metadata": {},
   "outputs": [
    {
     "name": "stdout",
     "output_type": "stream",
     "text": [
      "0.49062500000000003\n",
      "1.10390625\n",
      "0.49062500000000003\n"
     ]
    }
   ],
   "source": [
    "print (pipe_1.flow_rate(2.5) )\n",
    "print (pipe_2.flow_rate(2.5) )\n",
    "print (pipe_3.flow_rate(2.5) )"
   ]
  }
 ],
 "metadata": {
  "interpreter": {
   "hash": "aee8b7b246df8f9039afb4144a1f6fd8d2ca17a180786b69acc140d282b71a49"
  },
  "kernelspec": {
   "display_name": "Python 3.10.0 64-bit",
   "language": "python",
   "name": "python3"
  },
  "language_info": {
   "codemirror_mode": {
    "name": "ipython",
    "version": 3
   },
   "file_extension": ".py",
   "mimetype": "text/x-python",
   "name": "python",
   "nbconvert_exporter": "python",
   "pygments_lexer": "ipython3",
   "version": "3.10.0"
  },
  "orig_nbformat": 4
 },
 "nbformat": 4,
 "nbformat_minor": 2
}
